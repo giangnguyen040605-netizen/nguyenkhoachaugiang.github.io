{
 "cells": [
  {
   "cell_type": "markdown",
   "id": "afdd1d1e-98dd-4a0a-bcd4-97f77a04af52",
   "metadata": {},
   "source": [
    "# Bai tap thuc hanh Ex1_Classification_Iris_NaiveBayes"
   ]
  },
  {
   "cell_type": "code",
   "execution_count": 1,
   "id": "7969d9be-ede7-4d86-b0fa-56ff73471d81",
   "metadata": {},
   "outputs": [],
   "source": [
    "import matplotlib.pyplot as plt\n",
    "import pandas as pd\n",
    "from sklearn import datasets\n",
    "from sklearn.model_selection import train_test_split\n",
    "from sklearn.naive_bayes import GaussianNB"
   ]
  },
  {
   "cell_type": "markdown",
   "id": "2abed5f0-ed37-4bea-a57e-5d63663a20d6",
   "metadata": {},
   "source": [
    "## Iris Dataset\n",
    "In this task, we have to classify three kinds of iris flower based on the length and width of their sepal and\n",
    "petal. These kinds includes Setosa, V ersicolor , and Virginica encoded with 0, 1, and 2, respectively.\n",
    "\n",
    "The dataset for iris classification is avaible in scikit-learn package. T o download and use it for our\n",
    "experiment, you can implement it with the following code:"
   ]
  },
  {
   "cell_type": "code",
   "execution_count": 2,
   "id": "1c360198-43d3-4199-85c1-6f597d2b0b19",
   "metadata": {},
   "outputs": [],
   "source": [
    "# Downloading the iris dataset\n",
    "iris = datasets.load_iris()\n",
    "class_names = iris.target_names\n",
    "# Convert to pandas format for easier processing\n",
    "iris_df = pd.DataFrame(iris.data, columns=iris.feature_names)\n",
    "iris_df['target'] = iris.target"
   ]
  },
  {
   "cell_type": "code",
   "execution_count": 3,
   "id": "5c3a9c32-3dd4-4837-b887-a62110518413",
   "metadata": {},
   "outputs": [
    {
     "data": {
      "text/html": [
       "<div>\n",
       "<style scoped>\n",
       "    .dataframe tbody tr th:only-of-type {\n",
       "        vertical-align: middle;\n",
       "    }\n",
       "\n",
       "    .dataframe tbody tr th {\n",
       "        vertical-align: top;\n",
       "    }\n",
       "\n",
       "    .dataframe thead th {\n",
       "        text-align: right;\n",
       "    }\n",
       "</style>\n",
       "<table border=\"1\" class=\"dataframe\">\n",
       "  <thead>\n",
       "    <tr style=\"text-align: right;\">\n",
       "      <th></th>\n",
       "      <th>sepal length (cm)</th>\n",
       "      <th>sepal width (cm)</th>\n",
       "      <th>petal length (cm)</th>\n",
       "      <th>petal width (cm)</th>\n",
       "      <th>target</th>\n",
       "    </tr>\n",
       "  </thead>\n",
       "  <tbody>\n",
       "    <tr>\n",
       "      <th>0</th>\n",
       "      <td>5.1</td>\n",
       "      <td>3.5</td>\n",
       "      <td>1.4</td>\n",
       "      <td>0.2</td>\n",
       "      <td>0</td>\n",
       "    </tr>\n",
       "    <tr>\n",
       "      <th>1</th>\n",
       "      <td>4.9</td>\n",
       "      <td>3.0</td>\n",
       "      <td>1.4</td>\n",
       "      <td>0.2</td>\n",
       "      <td>0</td>\n",
       "    </tr>\n",
       "    <tr>\n",
       "      <th>2</th>\n",
       "      <td>4.7</td>\n",
       "      <td>3.2</td>\n",
       "      <td>1.3</td>\n",
       "      <td>0.2</td>\n",
       "      <td>0</td>\n",
       "    </tr>\n",
       "    <tr>\n",
       "      <th>3</th>\n",
       "      <td>4.6</td>\n",
       "      <td>3.1</td>\n",
       "      <td>1.5</td>\n",
       "      <td>0.2</td>\n",
       "      <td>0</td>\n",
       "    </tr>\n",
       "    <tr>\n",
       "      <th>4</th>\n",
       "      <td>5.0</td>\n",
       "      <td>3.6</td>\n",
       "      <td>1.4</td>\n",
       "      <td>0.2</td>\n",
       "      <td>0</td>\n",
       "    </tr>\n",
       "  </tbody>\n",
       "</table>\n",
       "</div>"
      ],
      "text/plain": [
       "   sepal length (cm)  sepal width (cm)  petal length (cm)  petal width (cm)  \\\n",
       "0                5.1               3.5                1.4               0.2   \n",
       "1                4.9               3.0                1.4               0.2   \n",
       "2                4.7               3.2                1.3               0.2   \n",
       "3                4.6               3.1                1.5               0.2   \n",
       "4                5.0               3.6                1.4               0.2   \n",
       "\n",
       "   target  \n",
       "0       0  \n",
       "1       0  \n",
       "2       0  \n",
       "3       0  \n",
       "4       0  "
      ]
     },
     "execution_count": 3,
     "metadata": {},
     "output_type": "execute_result"
    }
   ],
   "source": [
    "iris_df.head()"
   ]
  },
  {
   "cell_type": "code",
   "execution_count": 4,
   "id": "c1411c6f-c8b6-41e4-9cdf-4bf9653ffc0d",
   "metadata": {},
   "outputs": [],
   "source": [
    "# Splitting dataset into train set and test set\n",
    "X_train, X_test, y_train, y_test = train_test_split(\n",
    "iris_df[['sepal length (cm)', 'sepal width (cm)',\n",
    "'petal length (cm)','petal width (cm)']],\n",
    "iris_df['target'],\n",
    "test_size=0.2,\n",
    "random_state=2021)"
   ]
  },
  {
   "cell_type": "markdown",
   "id": "08a09267-b5ae-4640-ab57-8a7cf4016da6",
   "metadata": {},
   "source": [
    "## Modeling and Results\n",
    "In this experiment, we build a Naive Bayes Classifier to classify three kinds of iris. We assume the lengths of\n",
    "sepal and petal are following a normal distribution. So we can train a Gaussian Naive Bayes as follows:"
   ]
  },
  {
   "cell_type": "code",
   "execution_count": 5,
   "id": "5942dc23-c569-4a7d-b992-86ccfbeb2269",
   "metadata": {},
   "outputs": [
    {
     "name": "stdout",
     "output_type": "stream",
     "text": [
      "Training accuracy: 0.97\n",
      "Testing accuracy NB: 0.93\n"
     ]
    }
   ],
   "source": [
    "# Import Naive Bayes\n",
    "# In this case, I assume features follow a normal distribution\n",
    "NB = GaussianNB()\n",
    "# Train Naive Bayes Model\n",
    "NB.fit(X_train, y_train)\n",
    "print(\"Training accuracy: {:.2f}\".format(NB.score(X_train, y_train)))\n",
    "# Evaluate Model on test set\n",
    "y_predict = NB.predict(X_test)\n",
    "print(\"Testing accuracy NB: {:.2f}\".format(NB.score(X_test, y_test)))"
   ]
  },
  {
   "cell_type": "markdown",
   "id": "e6fda9cf-23c0-431a-a752-2cff2a35f00c",
   "metadata": {},
   "source": [
    "After training, our model reaches 93% accuracy on the testing set."
   ]
  },
  {
   "cell_type": "markdown",
   "id": "74b0d857-c223-4f71-8049-18b721cc1793",
   "metadata": {},
   "source": [
    "## Results Visualization\n",
    "Our model is very good at classifying iris species. T o verify the prediction, we use Principal Component\n",
    "Analysis (PCA) to reduce the dimensions into 2-dimension for visualization."
   ]
  },
  {
   "cell_type": "code",
   "execution_count": 8,
   "id": "d4f4a14c-e662-418e-835b-be0948585589",
   "metadata": {},
   "outputs": [
    {
     "ename": "IndentationError",
     "evalue": "expected an indented block after 'for' statement on line 17 (2119868329.py, line 18)",
     "output_type": "error",
     "traceback": [
      "  \u001b[36mCell\u001b[39m\u001b[36m \u001b[39m\u001b[32mIn[8]\u001b[39m\u001b[32m, line 18\u001b[39m\n\u001b[31m    \u001b[39m\u001b[31mindicesToKeep = finalDf['target'] == target\u001b[39m\n    ^\n\u001b[31mIndentationError\u001b[39m\u001b[31m:\u001b[39m expected an indented block after 'for' statement on line 17\n"
     ]
    }
   ],
   "source": [
    "# Visualization\n",
    "from sklearn.decomposition import PCA\n",
    "\n",
    "pca = PCA(n_components=2)\n",
    "principalComponents = pca.fit_transform(X_train)\n",
    "\n",
    "principalDf = pd.DataFrame(data=principalComponents, columns=['PC1', 'PC2'])\n",
    "finalDf = pd.concat([principalDf, y_train.reset_index(drop=True)], axis=1)\n",
    "\n",
    "fig = plt.figure(figsize=(8, 8))\n",
    "ax = fig.add_subplot(1, 1, 1)\n",
    "ax.set_xlabel('PC1', fontsize=15)\n",
    "ax.set_ylabel('PC2', fontsize=15)\n",
    "ax.set_title('Prediction visualization on two principal components using PCA',\n",
    "fontsize=20)\n",
    "\n",
    "targets = [0, 1, 2]\n",
    "targets_2_desc = {0: 'Iris-setosa', 1: 'Iris-versicolor', 2: 'Iris-virginica'}\n",
    "colors = ['r', 'g', 'b']\n",
    "\n",
    "for target, color in zip(targets, colors):\n",
    "    indicesToKeep = finalDf['target'] == target\n",
    "    ax.scatter(finalDf.loc[indicesToKeep, 'PC1'],\n",
    "              finalDf.loc[indicesToKeep, 'PC2'],\n",
    "c=color,\n",
    "s=50,\n",
    "label=targets_2_desc[target])\n",
    "ax.legend()\n",
    "ax.grid() "
   ]
  },
  {
   "cell_type": "code",
   "execution_count": null,
   "id": "c1af97cf-4192-4186-b17b-172a9f0c368f",
   "metadata": {},
   "outputs": [],
   "source": []
  }
 ],
 "metadata": {
  "kernelspec": {
   "display_name": "Python [conda env:ml]",
   "language": "python",
   "name": "conda-env-ml-py"
  },
  "language_info": {
   "codemirror_mode": {
    "name": "ipython",
    "version": 3
   },
   "file_extension": ".py",
   "mimetype": "text/x-python",
   "name": "python",
   "nbconvert_exporter": "python",
   "pygments_lexer": "ipython3",
   "version": "3.11.13"
  }
 },
 "nbformat": 4,
 "nbformat_minor": 5
}

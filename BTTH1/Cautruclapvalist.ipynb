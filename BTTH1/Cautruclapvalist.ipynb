{
 "cells": [
  {
   "cell_type": "markdown",
   "id": "3f480e88-a78f-4f4e-ad89-ef5530b13c0f",
   "metadata": {},
   "source": [
    "# Cấu trúc lặp và list"
   ]
  },
  {
   "cell_type": "markdown",
   "id": "a5b59e81-cd74-4713-a539-e73da525cfee",
   "metadata": {},
   "source": [
    "## Bài 1"
   ]
  },
  {
   "cell_type": "code",
   "execution_count": 1,
   "id": "246d7dff-2c7a-496a-824d-dabb593ad449",
   "metadata": {},
   "outputs": [
    {
     "name": "stdout",
     "output_type": "stream",
     "text": [
      "String compare: ['1', '123', '27', '3', '5', '9']\n",
      "Integer compare: ['1', '3', '5', '9', '27', '123']\n"
     ]
    }
   ],
   "source": [
    "A = ['3', '27', '5', '123', '9', '1']\n",
    "\n",
    "# string compare (theo thứ tự từ điển)\n",
    "string_sorted = sorted(A)\n",
    "\n",
    "# integer compare (theo giá trị số nguyên)\n",
    "integer_sorted = sorted(A, key=int)\n",
    "\n",
    "print(\"String compare:\", string_sorted)\n",
    "print(\"Integer compare:\", integer_sorted)"
   ]
  },
  {
   "cell_type": "markdown",
   "id": "9d9e9b00-7d87-49f2-acc4-d61e4aa626bd",
   "metadata": {},
   "source": [
    "## Bài 2"
   ]
  },
  {
   "cell_type": "code",
   "execution_count": 2,
   "id": "0e26f10d-034a-46e0-8bca-dd48a03a6b1d",
   "metadata": {},
   "outputs": [
    {
     "name": "stdout",
     "output_type": "stream",
     "text": [
      "Kết quả: [12, 88, 120]\n"
     ]
    }
   ],
   "source": [
    "A = [12, 24, 35, 70, 88, 120, 155]\n",
    "remove_index = [1, 2, 3, 6]   # vị trí cần xóa\n",
    "\n",
    "result = [val for i, val in enumerate(A) if i not in remove_index]\n",
    "\n",
    "print(\"Kết quả:\", result)"
   ]
  },
  {
   "cell_type": "code",
   "execution_count": null,
   "id": "d489c97c-f5d6-40ce-8e3c-2c39b86a8566",
   "metadata": {},
   "outputs": [],
   "source": [
    "###"
   ]
  }
 ],
 "metadata": {
  "kernelspec": {
   "display_name": "Python [conda env:base] *",
   "language": "python",
   "name": "conda-base-py"
  },
  "language_info": {
   "codemirror_mode": {
    "name": "ipython",
    "version": 3
   },
   "file_extension": ".py",
   "mimetype": "text/x-python",
   "name": "python",
   "nbconvert_exporter": "python",
   "pygments_lexer": "ipython3",
   "version": "3.13.5"
  }
 },
 "nbformat": 4,
 "nbformat_minor": 5
}

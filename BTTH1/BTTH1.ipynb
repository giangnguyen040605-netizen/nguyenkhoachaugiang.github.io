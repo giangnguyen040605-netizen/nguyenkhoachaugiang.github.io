{
 "cells": [
  {
   "cell_type": "markdown",
   "id": "f3a6e0c7-b370-4b1f-bd6d-973f45399271",
   "metadata": {},
   "source": [
    "# Bài tập thực hành 1"
   ]
  },
  {
   "cell_type": "markdown",
   "id": "00bbff12-2b59-42b7-b588-e6c3ede35ff8",
   "metadata": {},
   "source": [
    "## Bài tập mẫu "
   ]
  },
  {
   "cell_type": "markdown",
   "id": "679fb862-be8c-4ff0-bc2b-de2b55f9f2a0",
   "metadata": {},
   "source": [
    "### Bài 1: In chuỗi"
   ]
  },
  {
   "cell_type": "code",
   "execution_count": 2,
   "id": "62adb63b-2c17-410c-a7d2-ababb4bc39cf",
   "metadata": {},
   "outputs": [
    {
     "name": "stdout",
     "output_type": "stream",
     "text": [
      "Whoever is happy will make others happy too\n",
      "--Anne Frank\n"
     ]
    }
   ],
   "source": [
    "print(\"Whoever is happy will make others happy too\");\n",
    "print(\"--Anne Frank\");"
   ]
  },
  {
   "cell_type": "markdown",
   "id": "e282625d-f06d-4347-921e-ab284480c32f",
   "metadata": {},
   "source": [
    "### Bài 2: Biểu thức tính toán"
   ]
  },
  {
   "cell_type": "code",
   "execution_count": 3,
   "id": "8311c64b-f817-4fef-be70-e1fced11cbce",
   "metadata": {},
   "outputs": [
    {
     "name": "stdin",
     "output_type": "stream",
     "text": [
      "Moi ban nhap so a:  5\n",
      "Moi ban nhap so b:  6\n"
     ]
    },
    {
     "name": "stdout",
     "output_type": "stream",
     "text": [
      "Cac ket qua tinh toan: \n",
      "5     +     6 =    11\n",
      "5     -     6 =    -1\n",
      "5     *     6 =    30\n",
      "5     /     6 =     0\n",
      "5     /     6 =     5\n",
      "5     /     6 =  0.83\n"
     ]
    }
   ],
   "source": [
    "# Nhập dữ liệu\n",
    "a = int(input(\"Moi ban nhap so a: \"))\n",
    "b = int(input(\"Moi ban nhap so b: \"))\n",
    "# Xử lý\n",
    "kqCong = a + b\n",
    "kqTru = a - b\n",
    "kqNhan = a * b\n",
    "kqChiaNguyen = a // b\n",
    "kqDu= a % b\n",
    "kqChiaThuc = a / b\n",
    "# Xuất dữ liệu\n",
    "print(\"Cac ket qua tinh toan: \")\n",
    "print(\"%-5d + %5d = %5d\"%(a, b, kqCong))\n",
    "print(\"%-5d - %5d = %5d\"%(a, b, kqTru))\n",
    "print(\"%-5d * %5d = %5d\"%(a, b, kqNhan))\n",
    "print(\"%-5d / %5d = %5d\"%(a, b, kqChiaNguyen))\n",
    "print(\"%-5d / %5d = %5d\"%(a, b, kqDu))\n",
    "print(\"%-5d / %5d = %5.2f\"%(a, b, kqChiaThuc))"
   ]
  },
  {
   "cell_type": "markdown",
   "id": "bb844197-9961-4eed-9b79-4d2ad7560972",
   "metadata": {},
   "source": [
    "### Bài 3: Biểu thức so sánh"
   ]
  },
  {
   "cell_type": "code",
   "execution_count": 5,
   "id": "8eee3f55-21b8-4c7e-bd9e-9cf9b8987664",
   "metadata": {},
   "outputs": [
    {
     "name": "stdin",
     "output_type": "stream",
     "text": [
      "Moi ban nhap so a:  2.5\n",
      "Moi ban nhap so b:  6.8\n"
     ]
    },
    {
     "name": "stdout",
     "output_type": "stream",
     "text": [
      "Ket qua so sanh hai so thuc 2.50 va 6.80:\n",
      "2.50     <     6.80:     True\n",
      "2.50     <=     6.80:     True\n",
      "2.50     >     6.80:    False\n",
      "2.50     >=     6.80:    False\n",
      "2.50     ==     6.80:    False\n",
      "2.50     !=     6.80:     True\n"
     ]
    }
   ],
   "source": [
    "# Nhập dữ liệu\n",
    "a = float(input(\"Moi ban nhap so a: \"))\n",
    "b = float(input(\"Moi ban nhap so b: \"))\n",
    "# Xử lý\n",
    "laNhoHon = (a < b)\n",
    "laNhoHonBang = (a <= b)\n",
    "laLonHon = (a > b)\n",
    "laLonHonBang = (a >= b)\n",
    "laBang = (a == b)\n",
    "laKhacNhau = (a != b)\n",
    "# Xuất dữ liệu\n",
    "print(\"Ket qua so sanh hai so thuc %.2f va %.2f:\"%(a, b))\n",
    "print(\"%-8.2f < %8.2f: %8s\"%(a, b, laNhoHon))\n",
    "print(\"%-8.2f <= %8.2f: %8s\"%(a, b, laNhoHonBang))\n",
    "print(\"%-8.2f > %8.2f: %8s\"%(a, b, laLonHon))\n",
    "print(\"%-8.2f >= %8.2f: %8s\"%(a, b, laLonHonBang))\n",
    "print(\"%-8.2f == %8.2f: %8s\"%(a, b, laBang))\n",
    "print(\"%-8.2f != %8.2f: %8s\"%(a, b, laKhacNhau))\n"
   ]
  },
  {
   "cell_type": "markdown",
   "id": "a71c2fa1-ed14-4d03-8c12-ad5745228cb2",
   "metadata": {},
   "source": [
    "### Bài 4: Tính giá trị hàm số"
   ]
  },
  {
   "cell_type": "code",
   "execution_count": 6,
   "id": "490578d6-ed53-4699-a394-4f28118052e9",
   "metadata": {},
   "outputs": [
    {
     "name": "stdin",
     "output_type": "stream",
     "text": [
      "Moi ban nhap vao gia tri cua bien so x:  2.3\n"
     ]
    },
    {
     "name": "stdout",
     "output_type": "stream",
     "text": [
      "Gia tri cua ham so f(2.30) = 3.27.\n"
     ]
    }
   ],
   "source": [
    "# Nạp thư viện\n",
    "import math\n",
    "# Nhập dữ liệu\n",
    "x = float(input(\"Moi ban nhap vao gia tri cua bien so x: \"))\n",
    "# Xử lý\n",
    "fx = x + math.pow(x, 5) / (1 * 2 * 3 * 4 * 5) + \\\n",
    "math.sqrt(abs(x)) / math.pow(x, 3.0 / 2)\n",
    "# Xuất dữ liệu\n",
    "print(\"Gia tri cua ham so f(%.2f) = %.2f.\"%(x, fx))"
   ]
  },
  {
   "cell_type": "markdown",
   "id": "f640ef7c-0623-4dbe-90bd-b37ca0223896",
   "metadata": {},
   "source": [
    "### Bài 5: Tổng chữ số"
   ]
  },
  {
   "cell_type": "code",
   "execution_count": 7,
   "id": "689011db-ceb2-4dd7-a61f-f5a5a3f0aff6",
   "metadata": {},
   "outputs": [
    {
     "name": "stdin",
     "output_type": "stream",
     "text": [
      "Nhập số nguyên n có 4 chữ số:  1234\n"
     ]
    },
    {
     "name": "stdout",
     "output_type": "stream",
     "text": [
      "Tổng các chữ số của 1234 là: 10\n",
      "Tổng các chữ số (cách 2): 10\n"
     ]
    }
   ],
   "source": [
    "# Nhập số nguyên n có 4 chữ số\n",
    "n = int(input(\"Nhập số nguyên n có 4 chữ số: \"))\n",
    "\n",
    "# Cách 1: Dùng phép chia lấy dư\n",
    "tong = 0\n",
    "so = n\n",
    "while so > 0:\n",
    "    tong += so % 10   # lấy chữ số cuối cùng\n",
    "    so //= 10         # bỏ chữ số cuối\n",
    "\n",
    "print(\"Tổng các chữ số của\", n, \"là:\", tong)\n",
    "\n",
    "\n",
    "# --- Cách 2: Dùng chuỗi (ngắn gọn hơn) ---\n",
    "tong2 = sum(int(ch) for ch in str(n))\n",
    "print(\"Tổng các chữ số (cách 2):\", tong2)\n"
   ]
  },
  {
   "cell_type": "markdown",
   "id": "fd786c2a-300f-42da-a521-9263711d003f",
   "metadata": {},
   "source": [
    "## Bài tập thực hành"
   ]
  },
  {
   "cell_type": "markdown",
   "id": "71f67ed6-f611-4d23-a89c-a43c45109da7",
   "metadata": {},
   "source": [
    "### Bài 1: In nhãn"
   ]
  },
  {
   "cell_type": "code",
   "execution_count": 10,
   "id": "2100ce8e-84bc-4af0-bb5b-bf14ac63f789",
   "metadata": {},
   "outputs": [
    {
     "name": "stdout",
     "output_type": "stream",
     "text": [
      "**************************\n",
      "* Truong: Dai Hoc UEH    *\n",
      "* Khoa: CNTT             *\n",
      "* Ho ten:                *\n",
      "**************************\n"
     ]
    }
   ],
   "source": [
    "print(\"**************************\")\n",
    "print(\"* Truong: Dai Hoc UEH    *\")\n",
    "print(\"* Khoa: CNTT             *\")\n",
    "print(\"* Ho ten:                *\")\n",
    "print(\"**************************\")"
   ]
  },
  {
   "cell_type": "markdown",
   "id": "7d939d6b-4577-459a-bc82-751cca8f40e7",
   "metadata": {},
   "source": [
    "### Bài 2: Tính diện tích và chu hình tròn"
   ]
  },
  {
   "cell_type": "code",
   "execution_count": 11,
   "id": "e91f0114-a65b-4382-adb4-206e74288bc0",
   "metadata": {},
   "outputs": [
    {
     "name": "stdin",
     "output_type": "stream",
     "text": [
      "Nhap ban kinh R:  5\n"
     ]
    },
    {
     "name": "stdout",
     "output_type": "stream",
     "text": [
      "Dien tich S = 78.5\n",
      "Chu vi P = 31.4\n"
     ]
    }
   ],
   "source": [
    "# Nhập bán kính\n",
    "R = float(input(\"Nhap ban kinh R: \"))\n",
    "\n",
    "# Tính diện tích và chu vi\n",
    "S = 3.14 * R**2\n",
    "P = 2 * 3.14 * R\n",
    "\n",
    "# In kết quả với 1 chữ số thập phân\n",
    "print(f\"Dien tich S = {S:.1f}\")\n",
    "print(f\"Chu vi P = {P:.1f}\")"
   ]
  },
  {
   "cell_type": "markdown",
   "id": "ad18c480-50b7-482c-9820-f04230c17cb6",
   "metadata": {},
   "source": [
    "### Bài 3: Đổi sang giây"
   ]
  },
  {
   "cell_type": "code",
   "execution_count": 12,
   "id": "2175bff6-3a2d-4023-8fb5-1bd0163208b0",
   "metadata": {},
   "outputs": [
    {
     "name": "stdin",
     "output_type": "stream",
     "text": [
      "Nhap so gio:  1\n",
      "Nhap so phut:  20\n",
      "Nhap so giay:  10\n"
     ]
    },
    {
     "name": "stdout",
     "output_type": "stream",
     "text": [
      "Tong so giay cua 1:20:10 la 4810 giay\n"
     ]
    }
   ],
   "source": [
    "# Nhập thời gian\n",
    "h = int(input(\"Nhap so gio: \"))\n",
    "m = int(input(\"Nhap so phut: \"))\n",
    "s = int(input(\"Nhap so giay: \"))\n",
    "\n",
    "# Tính tổng số giây\n",
    "tong_giay = h * 3600 + m * 60 + s\n",
    "\n",
    "# In kết quả\n",
    "print(f\"Tong so giay cua {h}:{m}:{s} la {tong_giay} giay\")"
   ]
  },
  {
   "cell_type": "markdown",
   "id": "15e1f983-7793-47ef-90e0-419b16cbdbb6",
   "metadata": {},
   "source": [
    "### Bài 4: Đổi sang giờ phút giây "
   ]
  },
  {
   "cell_type": "code",
   "execution_count": 13,
   "id": "14980313-278c-4957-b697-077b022d707c",
   "metadata": {},
   "outputs": [
    {
     "name": "stdin",
     "output_type": "stream",
     "text": [
      "Nhap vao tong so giay:  4810\n"
     ]
    },
    {
     "name": "stdout",
     "output_type": "stream",
     "text": [
      "4810 giay co dang 1:20:10\n"
     ]
    }
   ],
   "source": [
    "# Nhập vào tổng số giây\n",
    "t = int(input(\"Nhap vao tong so giay: \"))\n",
    "\n",
    "# Tính số giờ, phút, giây\n",
    "h = t // 3600              # số giờ\n",
    "m = (t % 3600) // 60       # số phút\n",
    "s = t % 60                 # số giây\n",
    "\n",
    "# In kết quả\n",
    "print(f\"{t} giay co dang {h}:{m}:{s}\")"
   ]
  },
  {
   "cell_type": "markdown",
   "id": "b30a0bbb-ec7c-484b-aff1-84635ec9feec",
   "metadata": {},
   "source": [
    "### Bài 5: Tính diện tích tam giác"
   ]
  },
  {
   "cell_type": "code",
   "execution_count": 14,
   "id": "1fdaa0b6-ac21-4ed1-a7e0-85795896d518",
   "metadata": {},
   "outputs": [
    {
     "name": "stdin",
     "output_type": "stream",
     "text": [
      "Nhap do dai canh a:  2\n",
      "Nhap do dai canh b:  4\n",
      "Nhap do dai canh c:  3\n"
     ]
    },
    {
     "name": "stdout",
     "output_type": "stream",
     "text": [
      "Dien tich tam giac S = 2.90\n"
     ]
    }
   ],
   "source": [
    "import math\n",
    "\n",
    "# Nhập độ dài các cạnh\n",
    "a = float(input(\"Nhap do dai canh a: \"))\n",
    "b = float(input(\"Nhap do dai canh b: \"))\n",
    "c = float(input(\"Nhap do dai canh c: \"))\n",
    "\n",
    "# Tính nửa chu vi\n",
    "p = (a + b + c) / 2\n",
    "\n",
    "# Kiểm tra điều kiện tam giác trước khi tính\n",
    "if a + b > c and a + c > b and b + c > a:\n",
    "    S = math.sqrt(p * (p - a) * (p - b) * (p - c))\n",
    "    print(f\"Dien tich tam giac S = {S:.2f}\")\n",
    "else:\n",
    "    print(\"Ba canh khong tao thanh mot tam giac hop le.\")"
   ]
  },
  {
   "cell_type": "markdown",
   "id": "81c37513-54a2-4241-b24b-daf2fa04b422",
   "metadata": {},
   "source": [
    "### Bài 6: Hàm Mũ"
   ]
  },
  {
   "cell_type": "code",
   "execution_count": 15,
   "id": "fa56b28b-a7f8-4ba9-bb51-5c1ec77b1093",
   "metadata": {},
   "outputs": [
    {
     "name": "stdin",
     "output_type": "stream",
     "text": [
      "Nhap so thuc a:  2\n",
      "Nhap so mu n:  4\n"
     ]
    },
    {
     "name": "stdout",
     "output_type": "stream",
     "text": [
      "Ket qua 2.0^4 = 16.0\n"
     ]
    }
   ],
   "source": [
    "# Nhập dữ liệu\n",
    "a = float(input(\"Nhap so thuc a: \"))\n",
    "n = int(input(\"Nhap so mu n: \"))\n",
    "\n",
    "# Tính a^n\n",
    "ket_qua = a ** n\n",
    "\n",
    "# In kết quả\n",
    "print(f\"Ket qua {a}^{n} = {ket_qua}\")"
   ]
  },
  {
   "cell_type": "markdown",
   "id": "12a05333-7451-4992-933c-f3a0ded8a732",
   "metadata": {},
   "source": [
    "### Bài 7: Đảo số"
   ]
  },
  {
   "cell_type": "code",
   "execution_count": 16,
   "id": "511b5063-3efd-48bc-b9dd-5efcb72aea07",
   "metadata": {},
   "outputs": [
    {
     "name": "stdin",
     "output_type": "stream",
     "text": [
      "Nhap so nguyen x (4 chu so):  1234\n"
     ]
    },
    {
     "name": "stdout",
     "output_type": "stream",
     "text": [
      "So dao cua 1234 la 4321\n"
     ]
    }
   ],
   "source": [
    "# Nhập số nguyên có 4 chữ số\n",
    "x = int(input(\"Nhap so nguyen x (4 chu so): \"))\n",
    "\n",
    "# Dùng chuỗi\n",
    "y = int(str(x)[::-1])\n",
    "print(f\"So dao cua {x} la {y}\")"
   ]
  },
  {
   "cell_type": "markdown",
   "id": "4cc34bda-4f4e-4880-826d-8fa2bf71ba3c",
   "metadata": {},
   "source": [
    "### Bài 8: Độ sang Radian"
   ]
  },
  {
   "cell_type": "code",
   "execution_count": 17,
   "id": "3bcad2cf-4667-4901-a0a7-e8f715334408",
   "metadata": {},
   "outputs": [
    {
     "name": "stdin",
     "output_type": "stream",
     "text": [
      "Nhap goc (do):  180\n"
     ]
    },
    {
     "name": "stdout",
     "output_type": "stream",
     "text": [
      "180.0 do = 3.1416 radian\n"
     ]
    }
   ],
   "source": [
    "import math\n",
    "\n",
    "# Nhập góc (độ)\n",
    "degree = float(input(\"Nhap goc (do): \"))\n",
    "\n",
    "# Đổi sang radian\n",
    "radian = degree * math.pi / 180\n",
    "\n",
    "# In kết quả\n",
    "print(f\"{degree} do = {radian:.4f} radian\")"
   ]
  },
  {
   "cell_type": "markdown",
   "id": "a184210e-b86d-4361-b4a8-93d4aba520cc",
   "metadata": {},
   "source": [
    "### Bài 9: Hàm số 1"
   ]
  },
  {
   "cell_type": "code",
   "execution_count": 18,
   "id": "3db6b5c8-40c9-49d8-9b45-163407a645fd",
   "metadata": {},
   "outputs": [
    {
     "name": "stdin",
     "output_type": "stream",
     "text": [
      "Nhap gia tri x:  2\n"
     ]
    },
    {
     "name": "stdout",
     "output_type": "stream",
     "text": [
      "y1 = 157.14\n",
      "y2 = 0.04\n"
     ]
    }
   ],
   "source": [
    "import math\n",
    "\n",
    "x = float(input(\"Nhap gia tri x: \"))\n",
    "\n",
    "# Tính y1 và y2\n",
    "y1 = 4 * (x**2 + 10*x*math.sqrt(x) + 3*x + 1)\n",
    "y2 = (math.sin(math.pi * x**2) + math.sqrt(x**2 + 1)) / (math.exp(2*x) + math.cos((math.pi/4)*x))\n",
    "\n",
    "# In kết quả (làm tròn 2 số lẻ)\n",
    "print(f\"y1 = {y1:.2f}\")\n",
    "print(f\"y2 = {y2:.2f}\")"
   ]
  },
  {
   "cell_type": "markdown",
   "id": "5f28d44a-fc95-48a1-96c3-bff7a5b91630",
   "metadata": {},
   "source": [
    "### Bài 10: Khoảng cách"
   ]
  },
  {
   "cell_type": "code",
   "execution_count": 19,
   "id": "1738be9d-654f-46de-9d04-4c2120cbd5a3",
   "metadata": {},
   "outputs": [
    {
     "name": "stdin",
     "output_type": "stream",
     "text": [
      "Nhap x1:  2\n",
      "Nhap y1:  3\n",
      "Nhap x2:  4\n",
      "Nhap y2:  5\n"
     ]
    },
    {
     "name": "stdout",
     "output_type": "stream",
     "text": [
      "Khoang cach giua A(2.0,3.0) va B(4.0,5.0) la: 2.83\n"
     ]
    }
   ],
   "source": [
    "import math\n",
    "\n",
    "x1 = float(input(\"Nhap x1: \"))\n",
    "y1 = float(input(\"Nhap y1: \"))\n",
    "x2 = float(input(\"Nhap x2: \"))\n",
    "y2 = float(input(\"Nhap y2: \"))\n",
    "\n",
    "# Tính khoảng cách\n",
    "d = math.sqrt((x2 - x1)**2 + (y2 - y1)**2)\n",
    "\n",
    "# In kết quả\n",
    "print(f\"Khoang cach giua A({x1},{y1}) va B({x2},{y2}) la: {d:.2f}\")"
   ]
  },
  {
   "cell_type": "markdown",
   "id": "835f73e3-c80a-431c-9f25-5a4a36d3c807",
   "metadata": {},
   "source": [
    "# Cấu trúc điều kiện"
   ]
  },
  {
   "cell_type": "markdown",
   "id": "e7263a70-2300-4e20-af2e-3af267b3eff0",
   "metadata": {},
   "source": [
    "## Bài tập trên lớp"
   ]
  },
  {
   "cell_type": "markdown",
   "id": "55b1f12e-7849-4e82-a49b-b8125822c7a8",
   "metadata": {},
   "source": [
    "### Bài 1. Tìm giá trị lớn nhất"
   ]
  },
  {
   "cell_type": "code",
   "execution_count": null,
   "id": "cf33e650-bf8a-4233-80dc-bc3d3e6f09be",
   "metadata": {},
   "outputs": [],
   "source": []
  }
 ],
 "metadata": {
  "kernelspec": {
   "display_name": "Python [conda env:anaconda3] *",
   "language": "python",
   "name": "conda-env-anaconda3-py"
  },
  "language_info": {
   "codemirror_mode": {
    "name": "ipython",
    "version": 3
   },
   "file_extension": ".py",
   "mimetype": "text/x-python",
   "name": "python",
   "nbconvert_exporter": "python",
   "pygments_lexer": "ipython3",
   "version": "3.13.5"
  }
 },
 "nbformat": 4,
 "nbformat_minor": 5
}

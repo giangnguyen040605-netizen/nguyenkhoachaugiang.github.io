{
 "cells": [
  {
   "cell_type": "code",
   "execution_count": 3,
   "id": "265e3cd9-f961-4759-872e-265cbcc43c10",
   "metadata": {},
   "outputs": [
    {
     "name": "stdout",
     "output_type": "stream",
     "text": [
      "Writing PreviousDay.in0\n"
     ]
    }
   ],
   "source": [
    "%%writefile PreviousDay.in0\n",
    "1\n",
    "2\n",
    "2015"
   ]
  },
  {
   "cell_type": "code",
   "execution_count": 4,
   "id": "81951554-d9c3-4b5b-8731-0b327de15b92",
   "metadata": {},
   "outputs": [
    {
     "name": "stdout",
     "output_type": "stream",
     "text": [
      "Previous day of 1/2/2015 is 31/1/2015.\n"
     ]
    }
   ],
   "source": [
    "!python PreviousDay.py < PreviousDay.in0"
   ]
  },
  {
   "cell_type": "code",
   "execution_count": 5,
   "id": "45b3bea4-df31-49b0-b16c-9412c1619867",
   "metadata": {},
   "outputs": [
    {
     "name": "stdout",
     "output_type": "stream",
     "text": [
      "Overwriting PreviousDay.in0\n"
     ]
    }
   ],
   "source": [
    "%%writefile PreviousDay.in0\n",
    "1\n",
    "1\n",
    "2015"
   ]
  },
  {
   "cell_type": "code",
   "execution_count": 6,
   "id": "82e86c86-742c-4720-9865-ef46547f2356",
   "metadata": {},
   "outputs": [
    {
     "name": "stdout",
     "output_type": "stream",
     "text": [
      "Previous day of 1/1/2015 is 31/12/2014.\n"
     ]
    }
   ],
   "source": [
    "!python PreviousDay.py < PreviousDay.in0"
   ]
  },
  {
   "cell_type": "code",
   "execution_count": null,
   "id": "c467a854-1b4d-4d68-ae2f-842624a732e1",
   "metadata": {},
   "outputs": [],
   "source": []
  }
 ],
 "metadata": {
  "kernelspec": {
   "display_name": "Python [conda env:anaconda3] *",
   "language": "python",
   "name": "conda-env-anaconda3-py"
  },
  "language_info": {
   "codemirror_mode": {
    "name": "ipython",
    "version": 3
   },
   "file_extension": ".py",
   "mimetype": "text/x-python",
   "name": "python",
   "nbconvert_exporter": "python",
   "pygments_lexer": "ipython3",
   "version": "3.13.5"
  }
 },
 "nbformat": 4,
 "nbformat_minor": 5
}

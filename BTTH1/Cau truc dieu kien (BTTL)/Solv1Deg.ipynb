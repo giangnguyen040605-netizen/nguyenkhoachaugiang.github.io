{
 "cells": [
  {
   "cell_type": "code",
   "execution_count": 1,
   "id": "21366fc8-4d5b-4b3b-a89d-b42b3db5d086",
   "metadata": {},
   "outputs": [
    {
     "name": "stdout",
     "output_type": "stream",
     "text": [
      "Writing Solve1Deg.in0\n"
     ]
    }
   ],
   "source": [
    "%%writefile Solve1Deg.in0\n",
    "1\n",
    "5"
   ]
  },
  {
   "cell_type": "code",
   "execution_count": 2,
   "id": "dd3f9fdd-8e9a-4918-88bf-077ff3ee4183",
   "metadata": {},
   "outputs": [
    {
     "name": "stdout",
     "output_type": "stream",
     "text": [
      "Writing Solve1Deg.in1\n"
     ]
    }
   ],
   "source": [
    "%%writefile Solve1Deg.in1\n",
    "0\n",
    "0"
   ]
  },
  {
   "cell_type": "code",
   "execution_count": 3,
   "id": "fd5c02a1-7084-4784-b7d3-55362f790331",
   "metadata": {},
   "outputs": [
    {
     "name": "stdout",
     "output_type": "stream",
     "text": [
      "Writing Solve1Deg.in2\n"
     ]
    }
   ],
   "source": [
    "%%writefile Solve1Deg.in2\n",
    "0\n",
    "10"
   ]
  },
  {
   "cell_type": "code",
   "execution_count": 4,
   "id": "83c323eb-0b36-4c7e-9864-130a0dfc989b",
   "metadata": {},
   "outputs": [
    {
     "name": "stderr",
     "output_type": "stream",
     "text": [
      "  File \u001b[35m\"C:\\Users\\Admin\\Solve1Deg.py\"\u001b[0m, line \u001b[35m24\u001b[0m\n",
      "    \u001b[1;31mprint\u001b[0m(\"%.2fx + %.2f = 0: unlimited solutions\"%(a, b))\n",
      "    \u001b[1;31m^^^^^\u001b[0m\n",
      "\u001b[1;35mIndentationError\u001b[0m: \u001b[35mexpected an indented block after 'if' statement on line 23\u001b[0m\n",
      "  File \u001b[35m\"C:\\Users\\Admin\\Solve1Deg.py\"\u001b[0m, line \u001b[35m24\u001b[0m\n",
      "    \u001b[1;31mprint\u001b[0m(\"%.2fx + %.2f = 0: unlimited solutions\"%(a, b))\n",
      "    \u001b[1;31m^^^^^\u001b[0m\n",
      "\u001b[1;35mIndentationError\u001b[0m: \u001b[35mexpected an indented block after 'if' statement on line 23\u001b[0m\n",
      "  File \u001b[35m\"C:\\Users\\Admin\\Solve1Deg.py\"\u001b[0m, line \u001b[35m24\u001b[0m\n",
      "    \u001b[1;31mprint\u001b[0m(\"%.2fx + %.2f = 0: unlimited solutions\"%(a, b))\n",
      "    \u001b[1;31m^^^^^\u001b[0m\n",
      "\u001b[1;35mIndentationError\u001b[0m: \u001b[35mexpected an indented block after 'if' statement on line 23\u001b[0m\n"
     ]
    }
   ],
   "source": [
    "!python Solve1Deg.py < Solve1Deg.in0\n",
    "!python Solve1Deg.py < Solve1Deg.in1\n",
    "!python Solve1Deg.py < Solve1Deg.in2"
   ]
  },
  {
   "cell_type": "code",
   "execution_count": null,
   "id": "809c9d98-bf09-4c74-b407-6ca679ec68a5",
   "metadata": {},
   "outputs": [],
   "source": []
  }
 ],
 "metadata": {
  "kernelspec": {
   "display_name": "Python [conda env:anaconda3] *",
   "language": "python",
   "name": "conda-env-anaconda3-py"
  },
  "language_info": {
   "codemirror_mode": {
    "name": "ipython",
    "version": 3
   },
   "file_extension": ".py",
   "mimetype": "text/x-python",
   "name": "python",
   "nbconvert_exporter": "python",
   "pygments_lexer": "ipython3",
   "version": "3.13.5"
  }
 },
 "nbformat": 4,
 "nbformat_minor": 5
}

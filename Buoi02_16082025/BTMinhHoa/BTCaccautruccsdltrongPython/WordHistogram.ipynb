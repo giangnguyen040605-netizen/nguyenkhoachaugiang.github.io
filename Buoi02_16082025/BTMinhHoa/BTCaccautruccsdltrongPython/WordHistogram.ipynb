{
 "cells": [
  {
   "cell_type": "code",
   "execution_count": 11,
   "id": "02890b82-2c7d-4607-a9db-434271b05b66",
   "metadata": {},
   "outputs": [
    {
     "name": "stdout",
     "output_type": "stream",
     "text": [
      "Writing WordHistogram.inp\n"
     ]
    }
   ],
   "source": [
    "%%writefile WordHistogram.inp\n",
    "2\n",
    "Hôm nay, trời đẹp quá!\n",
    "Hôm qua, trời mưa phải không?"
   ]
  },
  {
   "cell_type": "code",
   "execution_count": 14,
   "id": "70702290-049d-4b8a-9098-ca14c11dbae9",
   "metadata": {},
   "outputs": [],
   "source": [
    "%run WordHistogram.py"
   ]
  },
  {
   "cell_type": "code",
   "execution_count": 15,
   "id": "bea1ddb4-ba34-4e2f-a8e7-ce1bda5a1a62",
   "metadata": {},
   "outputs": [
    {
     "name": "stdout",
     "output_type": "stream",
     "text": [
      "hôm: 2\n",
      "nay: 1\n",
      "trời: 2\n",
      "đẹp: 1\n",
      "quá: 1\n",
      "qua: 1\n",
      "mưa: 1\n",
      "phải: 1\n",
      "không: 1\n",
      "\n"
     ]
    }
   ],
   "source": [
    "with open(\"WordHistogram.out\", \"r\", encoding=\"utf-8\") as f:\n",
    "    print(f.read())"
   ]
  },
  {
   "cell_type": "code",
   "execution_count": null,
   "id": "8e7bab22-20d0-487e-97c6-940cb7a7e860",
   "metadata": {},
   "outputs": [],
   "source": []
  }
 ],
 "metadata": {
  "kernelspec": {
   "display_name": "Python [conda env:base] *",
   "language": "python",
   "name": "conda-base-py"
  },
  "language_info": {
   "codemirror_mode": {
    "name": "ipython",
    "version": 3
   },
   "file_extension": ".py",
   "mimetype": "text/x-python",
   "name": "python",
   "nbconvert_exporter": "python",
   "pygments_lexer": "ipython3",
   "version": "3.13.5"
  }
 },
 "nbformat": 4,
 "nbformat_minor": 5
}

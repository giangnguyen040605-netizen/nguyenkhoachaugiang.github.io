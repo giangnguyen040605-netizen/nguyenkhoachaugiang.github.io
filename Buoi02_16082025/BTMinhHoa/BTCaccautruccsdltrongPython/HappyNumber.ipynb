{
 "cells": [
  {
   "cell_type": "code",
   "execution_count": 24,
   "id": "42d4c129-929c-4458-ab80-26831516189c",
   "metadata": {},
   "outputs": [
    {
     "name": "stdout",
     "output_type": "stream",
     "text": [
      "Overwriting HappyNumber.inp\n"
     ]
    }
   ],
   "source": [
    "%%writefile HappyNumber.inp\n",
    "19"
   ]
  },
  {
   "cell_type": "code",
   "execution_count": 26,
   "id": "cbf9bdb0-c023-4c0a-b11c-75cd3f6a18eb",
   "metadata": {},
   "outputs": [],
   "source": [
    "!python HappyNumber.py "
   ]
  },
  {
   "cell_type": "code",
   "execution_count": 27,
   "id": "055eabaa-fd4a-48cf-af6c-6e238a5a40b0",
   "metadata": {},
   "outputs": [
    {
     "name": "stdout",
     "output_type": "stream",
     "text": [
      "True\n"
     ]
    }
   ],
   "source": [
    "!cat HappyNumber.out"
   ]
  },
  {
   "cell_type": "code",
   "execution_count": 12,
   "id": "f816f674-6300-4b7c-88d3-04a869efa982",
   "metadata": {},
   "outputs": [
    {
     "name": "stdout",
     "output_type": "stream",
     "text": [
      "Overwriting HappyNumber.inp\n"
     ]
    }
   ],
   "source": [
    "%%writefile HappyNumber.inp\n",
    "2"
   ]
  },
  {
   "cell_type": "code",
   "execution_count": 13,
   "id": "fc88f639-cd0a-42f1-9a64-8aae7e0fd72d",
   "metadata": {},
   "outputs": [],
   "source": [
    "!python HappyNumber.py"
   ]
  },
  {
   "cell_type": "code",
   "execution_count": 14,
   "id": "30177d9b-814e-47f6-a3cd-0b99009f410d",
   "metadata": {},
   "outputs": [
    {
     "name": "stdout",
     "output_type": "stream",
     "text": [
      "False\n"
     ]
    }
   ],
   "source": [
    "!cat HappyNumber.out"
   ]
  },
  {
   "cell_type": "code",
   "execution_count": null,
   "id": "89ede626-ba08-4f68-b2eb-1607d5e0a09f",
   "metadata": {},
   "outputs": [],
   "source": []
  }
 ],
 "metadata": {
  "kernelspec": {
   "display_name": "Python [conda env:base] *",
   "language": "python",
   "name": "conda-base-py"
  },
  "language_info": {
   "codemirror_mode": {
    "name": "ipython",
    "version": 3
   },
   "file_extension": ".py",
   "mimetype": "text/x-python",
   "name": "python",
   "nbconvert_exporter": "python",
   "pygments_lexer": "ipython3",
   "version": "3.13.5"
  }
 },
 "nbformat": 4,
 "nbformat_minor": 5
}

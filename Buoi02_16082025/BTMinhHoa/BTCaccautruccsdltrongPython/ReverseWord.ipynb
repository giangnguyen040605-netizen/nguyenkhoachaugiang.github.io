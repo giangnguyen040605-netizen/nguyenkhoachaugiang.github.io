{
 "cells": [
  {
   "cell_type": "code",
   "execution_count": 5,
   "id": "82d148e1-3460-4f96-9c4c-234600202fd9",
   "metadata": {},
   "outputs": [
    {
     "name": "stdout",
     "output_type": "stream",
     "text": [
      "Writing ReverseWord.inp\n"
     ]
    }
   ],
   "source": [
    "%%writefile ReverseWord.inp\n",
    "1\n",
    "CA AN KIEN"
   ]
  },
  {
   "cell_type": "code",
   "execution_count": 6,
   "id": "7f78a413-870f-4f10-aca9-09e100573037",
   "metadata": {},
   "outputs": [],
   "source": [
    "%run ReverseWord.py"
   ]
  },
  {
   "cell_type": "code",
   "execution_count": 7,
   "id": "5eec4bad-ad98-4cf6-865f-ba723ad9a0ca",
   "metadata": {},
   "outputs": [
    {
     "name": "stdout",
     "output_type": "stream",
     "text": [
      "KIEN AN CA\n",
      "\n"
     ]
    }
   ],
   "source": [
    "with open(\"ReverseWord.out\", \"r\", encoding=\"utf-8\") as f:\n",
    "    print(f.read())"
   ]
  },
  {
   "cell_type": "code",
   "execution_count": null,
   "id": "6e0dcc2d-2dd4-4ed0-b09e-d32300467e40",
   "metadata": {},
   "outputs": [],
   "source": []
  }
 ],
 "metadata": {
  "kernelspec": {
   "display_name": "Python [conda env:base] *",
   "language": "python",
   "name": "conda-base-py"
  },
  "language_info": {
   "codemirror_mode": {
    "name": "ipython",
    "version": 3
   },
   "file_extension": ".py",
   "mimetype": "text/x-python",
   "name": "python",
   "nbconvert_exporter": "python",
   "pygments_lexer": "ipython3",
   "version": "3.13.5"
  }
 },
 "nbformat": 4,
 "nbformat_minor": 5
}

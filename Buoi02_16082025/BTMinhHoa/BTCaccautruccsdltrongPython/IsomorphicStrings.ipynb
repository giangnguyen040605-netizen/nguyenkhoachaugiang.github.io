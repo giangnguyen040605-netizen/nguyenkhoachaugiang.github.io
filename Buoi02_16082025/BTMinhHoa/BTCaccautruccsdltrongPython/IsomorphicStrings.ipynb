{
 "cells": [
  {
   "cell_type": "code",
   "execution_count": 3,
   "id": "49bd5fe3-efa4-4c5b-8335-304b3cd1ab00",
   "metadata": {},
   "outputs": [
    {
     "name": "stdout",
     "output_type": "stream",
     "text": [
      "Overwriting IsomorphicStrings.inp\n"
     ]
    }
   ],
   "source": [
    "%%writefile IsomorphicStrings.inp\n",
    "egg\n",
    "add"
   ]
  },
  {
   "cell_type": "code",
   "execution_count": 4,
   "id": "12fb8a09-906d-4147-8b3e-694eddbfd4d8",
   "metadata": {},
   "outputs": [
    {
     "name": "stdout",
     "output_type": "stream",
     "text": [
      "True\n"
     ]
    }
   ],
   "source": [
    "!python IsomorphicStrings.py < IsomorphicStrings.inp"
   ]
  },
  {
   "cell_type": "code",
   "execution_count": 5,
   "id": "c0c6097b-4e81-45bd-945e-b7c89c1319b1",
   "metadata": {},
   "outputs": [
    {
     "name": "stdout",
     "output_type": "stream",
     "text": [
      "Overwriting IsomorphicStrings.inp\n"
     ]
    }
   ],
   "source": [
    "%%writefile IsomorphicStrings.inp\n",
    "foo\n",
    "bar"
   ]
  },
  {
   "cell_type": "code",
   "execution_count": 6,
   "id": "66fdffc4-3098-42e0-b5cc-5d567b47a7d4",
   "metadata": {},
   "outputs": [
    {
     "name": "stdout",
     "output_type": "stream",
     "text": [
      "False\n"
     ]
    }
   ],
   "source": [
    "!python IsomorphicStrings.py < IsomorphicStrings.inp"
   ]
  },
  {
   "cell_type": "code",
   "execution_count": 7,
   "id": "a7921549-a501-4c46-81c5-99d4d81b45aa",
   "metadata": {},
   "outputs": [
    {
     "name": "stdout",
     "output_type": "stream",
     "text": [
      "Overwriting IsomorphicStrings.inp\n"
     ]
    }
   ],
   "source": [
    "%%writefile IsomorphicStrings.inp\n",
    "paper\n",
    "title "
   ]
  },
  {
   "cell_type": "code",
   "execution_count": 8,
   "id": "73a282e0-4eb4-4c2f-ba68-40ff7eb15f94",
   "metadata": {},
   "outputs": [
    {
     "name": "stdout",
     "output_type": "stream",
     "text": [
      "True\n"
     ]
    }
   ],
   "source": [
    "!python IsomorphicStrings.py < IsomorphicStrings.inp"
   ]
  },
  {
   "cell_type": "code",
   "execution_count": null,
   "id": "69d565a1-9b51-4a4b-8b99-9e84b6ef92bb",
   "metadata": {},
   "outputs": [],
   "source": []
  }
 ],
 "metadata": {
  "kernelspec": {
   "display_name": "Python [conda env:base] *",
   "language": "python",
   "name": "conda-base-py"
  },
  "language_info": {
   "codemirror_mode": {
    "name": "ipython",
    "version": 3
   },
   "file_extension": ".py",
   "mimetype": "text/x-python",
   "name": "python",
   "nbconvert_exporter": "python",
   "pygments_lexer": "ipython3",
   "version": "3.13.5"
  }
 },
 "nbformat": 4,
 "nbformat_minor": 5
}

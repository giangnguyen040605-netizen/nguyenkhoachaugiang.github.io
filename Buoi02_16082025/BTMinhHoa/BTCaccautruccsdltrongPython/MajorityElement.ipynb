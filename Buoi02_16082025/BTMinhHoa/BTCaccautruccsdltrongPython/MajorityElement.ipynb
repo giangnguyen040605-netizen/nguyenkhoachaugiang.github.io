{
 "cells": [
  {
   "cell_type": "code",
   "execution_count": 59,
   "id": "53e28ff3-e8e7-498e-b9b8-3c3e71df22e2",
   "metadata": {},
   "outputs": [
    {
     "name": "stdout",
     "output_type": "stream",
     "text": [
      "Overwriting MajorityElement.inp\n"
     ]
    }
   ],
   "source": [
    "%%writefile MajorityElement.inp\n",
    "7\n",
    "2 2 1 1 1 2 2"
   ]
  },
  {
   "cell_type": "code",
   "execution_count": 60,
   "id": "88185c9b-ac2d-43be-8fde-88281a065805",
   "metadata": {},
   "outputs": [
    {
     "name": "stdout",
     "output_type": "stream",
     "text": [
      "2\n"
     ]
    }
   ],
   "source": [
    "%run MajorityElement.py\n",
    "with open(\"MajorityElement.out\", \"r\", encoding=\"utf-8\") as f:\n",
    "    print(f.read().strip())  "
   ]
  },
  {
   "cell_type": "code",
   "execution_count": 61,
   "id": "d249bd0a-7e37-4aec-b457-59f30bdbb37d",
   "metadata": {},
   "outputs": [
    {
     "name": "stdout",
     "output_type": "stream",
     "text": [
      "Overwriting MajorityElement.inp\n"
     ]
    }
   ],
   "source": [
    "%%writefile MajorityElement.inp\n",
    "3\n",
    "3 2 3"
   ]
  },
  {
   "cell_type": "code",
   "execution_count": 62,
   "id": "a7f216bc-be41-4364-81e1-71f326eb177a",
   "metadata": {},
   "outputs": [
    {
     "name": "stdout",
     "output_type": "stream",
     "text": [
      "3\n"
     ]
    }
   ],
   "source": [
    "%run MajorityElement.py\n",
    "with open(\"MajorityElement.out\", \"r\", encoding=\"utf-8\") as f:\n",
    "    print(f.read().strip())  "
   ]
  },
  {
   "cell_type": "code",
   "execution_count": null,
   "id": "dbe9da51-243a-45fb-bef3-95ce330f8bde",
   "metadata": {},
   "outputs": [],
   "source": []
  }
 ],
 "metadata": {
  "kernelspec": {
   "display_name": "Python [conda env:base] *",
   "language": "python",
   "name": "conda-base-py"
  },
  "language_info": {
   "codemirror_mode": {
    "name": "ipython",
    "version": 3
   },
   "file_extension": ".py",
   "mimetype": "text/x-python",
   "name": "python",
   "nbconvert_exporter": "python",
   "pygments_lexer": "ipython3",
   "version": "3.13.5"
  }
 },
 "nbformat": 4,
 "nbformat_minor": 5
}

{
 "cells": [
  {
   "cell_type": "code",
   "execution_count": 38,
   "id": "ca0416a8-1e23-4d05-855c-42982cad4742",
   "metadata": {},
   "outputs": [
    {
     "name": "stdout",
     "output_type": "stream",
     "text": [
      "Overwriting DemSoTamGiacTren.in0\n"
     ]
    }
   ],
   "source": [
    "%%writefile DemSoTamGiacTren.in0\n",
    "5 \n",
    "5 -5 5 0 0\n",
    "0 5 0 1 1\n",
    "0 5 0 0 0\n",
    "0 0 0 2 3\n",
    "1 1 1 4 7"
   ]
  },
  {
   "cell_type": "code",
   "execution_count": 39,
   "id": "203365da-f7a3-4474-9dbf-92835f2c5389",
   "metadata": {},
   "outputs": [
    {
     "name": "stdout",
     "output_type": "stream",
     "text": [
      "Trong nua tam giac tren cheo chinh:\n",
      "+ 1 so am\n",
      "+ 4 so duong\n",
      "+ 5 so khong\n"
     ]
    }
   ],
   "source": [
    "!python DemSoTamGiacTren.py < DemSoTamGiacTren.in0"
   ]
  },
  {
   "cell_type": "code",
   "execution_count": null,
   "id": "e0dbb969-e190-419b-8bce-790d99a8b29f",
   "metadata": {},
   "outputs": [],
   "source": []
  }
 ],
 "metadata": {
  "kernelspec": {
   "display_name": "Python [conda env:base] *",
   "language": "python",
   "name": "conda-base-py"
  },
  "language_info": {
   "codemirror_mode": {
    "name": "ipython",
    "version": 3
   },
   "file_extension": ".py",
   "mimetype": "text/x-python",
   "name": "python",
   "nbconvert_exporter": "python",
   "pygments_lexer": "ipython3",
   "version": "3.13.5"
  }
 },
 "nbformat": 4,
 "nbformat_minor": 5
}

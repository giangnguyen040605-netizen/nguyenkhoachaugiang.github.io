{
 "cells": [
  {
   "cell_type": "code",
   "execution_count": 1,
   "id": "110a6273-79c8-47ec-855b-04b2cb712c87",
   "metadata": {},
   "outputs": [
    {
     "name": "stdout",
     "output_type": "stream",
     "text": [
      "Writing InTamGiacTrenChinhPhu.in0\n"
     ]
    }
   ],
   "source": [
    "%%writefile InTamGiacTrenChinhPhu.in0\n",
    "5\n",
    "5 5 5 0 0\n",
    "0 5 0 1 1\n",
    "0 5 0 0 0\n",
    "0 0 0 2 3\n",
    "1 1 1 4 7"
   ]
  },
  {
   "cell_type": "code",
   "execution_count": 2,
   "id": "2be28bff-aab6-4617-a5d0-69a8d46f51b8",
   "metadata": {},
   "outputs": [
    {
     "name": "stdout",
     "output_type": "stream",
     "text": [
      "Tam giac tren cheo chinh: 5 5 0 0 0 1 1 0 0 3\n",
      "Tam giac tren cheo phu: 5 5 5 0 0 5 0 0 5 0\n"
     ]
    }
   ],
   "source": [
    "!python InTamGiacTrenChinhPhu.py < InTamGiacTrenChinhPhu.in0"
   ]
  },
  {
   "cell_type": "code",
   "execution_count": null,
   "id": "6d611839-33d7-42a8-81b4-52af0b91f84f",
   "metadata": {},
   "outputs": [],
   "source": []
  }
 ],
 "metadata": {
  "kernelspec": {
   "display_name": "Python [conda env:base] *",
   "language": "python",
   "name": "conda-base-py"
  },
  "language_info": {
   "codemirror_mode": {
    "name": "ipython",
    "version": 3
   },
   "file_extension": ".py",
   "mimetype": "text/x-python",
   "name": "python",
   "nbconvert_exporter": "python",
   "pygments_lexer": "ipython3",
   "version": "3.13.5"
  }
 },
 "nbformat": 4,
 "nbformat_minor": 5
}

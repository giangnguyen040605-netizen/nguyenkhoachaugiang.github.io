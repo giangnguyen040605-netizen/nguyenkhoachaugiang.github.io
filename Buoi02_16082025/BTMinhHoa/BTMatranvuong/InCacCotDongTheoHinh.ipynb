{
 "cells": [
  {
   "cell_type": "code",
   "execution_count": 1,
   "id": "92a6fe29-f7a5-410a-8e61-21f9978a4fa3",
   "metadata": {},
   "outputs": [
    {
     "name": "stdout",
     "output_type": "stream",
     "text": [
      "Writing InCacCotDongTheoHinh.in0\n"
     ]
    }
   ],
   "source": [
    "%%writefile InCacCotDongTheoHinh.in0\n",
    "5\n",
    "1 2 3 4 5\n",
    "6 7 8 9 10\n",
    "11 12 13 14 15\n",
    "16 17 18 19 20\n",
    "21 22 23 24 25"
   ]
  },
  {
   "cell_type": "code",
   "execution_count": 2,
   "id": "48e8a651-6b34-4d9f-bbf6-290955f32afa",
   "metadata": {},
   "outputs": [
    {
     "name": "stdout",
     "output_type": "stream",
     "text": [
      "Cac dong: [1, 2, 3, 4, 5][10, 9, 8, 7, 6][11, 12, 13, 14, 15][20, 19, 18, 17, 16][21, 22, 23, 24, 25]\n",
      "Cac cot: [1, 6, 11, 16, 21][22, 17, 12, 7, 2][3, 8, 13, 18, 23][24, 19, 14, 9, 4][5, 10, 15, 20, 25]\n"
     ]
    }
   ],
   "source": [
    "!python InCacCotDongTheoHinh.py < InCacCotDongTheoHinh.in0"
   ]
  },
  {
   "cell_type": "code",
   "execution_count": null,
   "id": "d7c34ab0-9a4b-4997-bded-a2f100b10428",
   "metadata": {},
   "outputs": [],
   "source": []
  }
 ],
 "metadata": {
  "kernelspec": {
   "display_name": "Python [conda env:base] *",
   "language": "python",
   "name": "conda-base-py"
  },
  "language_info": {
   "codemirror_mode": {
    "name": "ipython",
    "version": 3
   },
   "file_extension": ".py",
   "mimetype": "text/x-python",
   "name": "python",
   "nbconvert_exporter": "python",
   "pygments_lexer": "ipython3",
   "version": "3.13.5"
  }
 },
 "nbformat": 4,
 "nbformat_minor": 5
}

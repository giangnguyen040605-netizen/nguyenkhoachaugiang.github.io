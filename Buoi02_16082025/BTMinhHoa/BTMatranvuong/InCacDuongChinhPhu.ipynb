{
 "cells": [
  {
   "cell_type": "code",
   "execution_count": 1,
   "id": "d3492690-3d7e-498a-8ed9-5ffd86a657a0",
   "metadata": {},
   "outputs": [
    {
     "name": "stdout",
     "output_type": "stream",
     "text": [
      "Writing InCacDuongChinhPhu.in0\n"
     ]
    }
   ],
   "source": [
    "%%writefile InCacDuongChinhPhu.in0\n",
    "5\n",
    "1 2 3 4 5\n",
    "6 7 8 9 10\n",
    "11 12 13 14 15\n",
    "16 17 18 19 20\n",
    "21 22 23 24 25"
   ]
  },
  {
   "cell_type": "code",
   "execution_count": 8,
   "id": "eb4118ae-0961-4da4-bfd5-19d57f512f6e",
   "metadata": {},
   "outputs": [
    {
     "name": "stdout",
     "output_type": "stream",
     "text": [
      "Cac duong song song cheo chinh: [1][2, 6][3, 7, 11][4, 8, 12, 16][5, 9, 13, 17, 21][10, 14, 18, 22][15, 19, 23][20, 24][25]\n",
      "Cac duong song song cheo phu: [21][16, 22][11, 17, 23][6, 12, 18, 24][1, 7, 13, 19, 25][2, 8, 14, 20][3, 9, 15][4, 10][5]\n"
     ]
    }
   ],
   "source": [
    "!python InCacDuongChinhPhu.py < InCacDuongChinhPhu.in0"
   ]
  },
  {
   "cell_type": "code",
   "execution_count": null,
   "id": "909cd805-4393-46ea-9c28-3447b2a70eea",
   "metadata": {},
   "outputs": [],
   "source": []
  }
 ],
 "metadata": {
  "kernelspec": {
   "display_name": "Python [conda env:base] *",
   "language": "python",
   "name": "conda-base-py"
  },
  "language_info": {
   "codemirror_mode": {
    "name": "ipython",
    "version": 3
   },
   "file_extension": ".py",
   "mimetype": "text/x-python",
   "name": "python",
   "nbconvert_exporter": "python",
   "pygments_lexer": "ipython3",
   "version": "3.13.5"
  }
 },
 "nbformat": 4,
 "nbformat_minor": 5
}

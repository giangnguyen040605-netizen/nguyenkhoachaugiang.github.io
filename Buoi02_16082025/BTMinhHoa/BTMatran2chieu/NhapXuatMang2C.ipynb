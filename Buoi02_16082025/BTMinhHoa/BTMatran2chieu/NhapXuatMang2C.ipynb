{
 "cells": [
  {
   "cell_type": "code",
   "execution_count": 6,
   "id": "bc00458e-2e7d-469a-bbfb-0896ef06e857",
   "metadata": {},
   "outputs": [
    {
     "name": "stdout",
     "output_type": "stream",
     "text": [
      "Writing NhapXuatMang2C.in0\n"
     ]
    }
   ],
   "source": [
    "%%writefile NhapXuatMang2C.in0\n",
    "2 3\n",
    "1 2 3\n",
    "4 5 6"
   ]
  },
  {
   "cell_type": "code",
   "execution_count": 7,
   "id": "3aa29efc-d664-490f-a574-63f66c0d8e31",
   "metadata": {},
   "outputs": [
    {
     "name": "stdout",
     "output_type": "stream",
     "text": [
      "Array A:\n",
      "1 2 3\n",
      "4 5 6\n"
     ]
    }
   ],
   "source": [
    "!python NhapXuatMang2C.py < NhapXuatMang2C.in0"
   ]
  },
  {
   "cell_type": "code",
   "execution_count": null,
   "id": "7943de07-ceea-402c-b644-ff78e22b54b9",
   "metadata": {},
   "outputs": [],
   "source": []
  }
 ],
 "metadata": {
  "kernelspec": {
   "display_name": "Python [conda env:base] *",
   "language": "python",
   "name": "conda-base-py"
  },
  "language_info": {
   "codemirror_mode": {
    "name": "ipython",
    "version": 3
   },
   "file_extension": ".py",
   "mimetype": "text/x-python",
   "name": "python",
   "nbconvert_exporter": "python",
   "pygments_lexer": "ipython3",
   "version": "3.13.5"
  }
 },
 "nbformat": 4,
 "nbformat_minor": 5
}

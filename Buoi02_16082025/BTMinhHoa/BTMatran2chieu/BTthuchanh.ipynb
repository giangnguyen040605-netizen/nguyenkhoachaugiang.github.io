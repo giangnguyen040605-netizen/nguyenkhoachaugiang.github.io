{
 "cells": [
  {
   "cell_type": "markdown",
   "id": "0bd386ca-5e80-4283-aa8b-80a95e222877",
   "metadata": {},
   "source": [
    "# Bài tập minh họa"
   ]
  },
  {
   "cell_type": "markdown",
   "id": "734f9e3d-baaf-4ce2-b057-7a842d563d97",
   "metadata": {},
   "source": [
    "## Thực hành 1"
   ]
  },
  {
   "cell_type": "markdown",
   "id": "f3c20f13-841e-42e6-9f54-d3672df26d47",
   "metadata": {},
   "source": [
    "### Bài 1"
   ]
  },
  {
   "cell_type": "code",
   "execution_count": 2,
   "id": "84d7f914-553a-42f0-88bd-753a3c47d171",
   "metadata": {},
   "outputs": [
    {
     "name": "stdin",
     "output_type": "stream",
     "text": [
      "Nhap vao so nguyen: 0\n"
     ]
    },
    {
     "name": "stdout",
     "output_type": "stream",
     "text": [
      "0 khong la so nguyen to\n"
     ]
    }
   ],
   "source": [
    "## ham kiem tra so nguyen to\n",
    "def ktsnt(n):\n",
    "    if n < 2: # 0, 1 khong la so nguyen to\n",
    "        return False\n",
    "    for i in range(2, int(n**(0.5))+1): # can bac hai cua n\n",
    "        if (n % i == 0):\n",
    "            return False\n",
    "    return True\n",
    "### nhap vao so nguyen can kiem tra\n",
    "a = int(input(\"Nhap vao so nguyen:\"))\n",
    "if ktsnt(a):\n",
    "    print(\"%d la so nguyen to\" % a)\n",
    "else:\n",
    "    print(\"%d khong la so nguyen to\" % a)"
   ]
  },
  {
   "cell_type": "code",
   "execution_count": 3,
   "id": "e4b8cfa4-ef85-48d5-adad-d106b322f3a5",
   "metadata": {},
   "outputs": [
    {
     "name": "stdout",
     "output_type": "stream",
     "text": [
      "2 \n",
      "3 \n",
      "5 \n",
      "7 \n",
      "11 \n",
      "13 \n",
      "17 \n",
      "19 \n"
     ]
    }
   ],
   "source": [
    "### ham liek ke cac so nguyen to nho hon n\n",
    "def lietkesnt(k):\n",
    "    if k <= 2:\n",
    "        print(\"khong co so nguyen to thoa yeu cau\")\n",
    "    else:\n",
    "        for i in range(2,k):\n",
    "            if ktsnt(i):\n",
    "                print(\"%d \" %i)\n",
    "n = 20\n",
    "lietkesnt(n)"
   ]
  },
  {
   "cell_type": "code",
   "execution_count": 4,
   "id": "23abe044-4100-4e90-b474-7c1c3ba84470",
   "metadata": {},
   "outputs": [
    {
     "name": "stdout",
     "output_type": "stream",
     "text": [
      "2 \n",
      "3 \n",
      "5 \n",
      "7 \n",
      "11 \n",
      "13 \n",
      "17 \n",
      "19 \n",
      "23 \n",
      "29 \n"
     ]
    }
   ],
   "source": [
    "### ham liet ke M\n",
    "def lietkeMsnt(M):\n",
    "    bien_dem = 0 # dem : tu 0 den M-1\n",
    "    t = 2 # 0 va 1 khong la so nguyen to\n",
    "    while(bien_dem < M):\n",
    "        if ktsnt(t):\n",
    "            print(\"%d \" %t)\n",
    "            bien_dem +=1\n",
    "        t+=1\n",
    "        \n",
    "M=10\n",
    "lietkeMsnt(M)"
   ]
  },
  {
   "cell_type": "markdown",
   "id": "325b99c7-50d7-4c87-9457-9866d100a86a",
   "metadata": {},
   "source": [
    "### Bài 2"
   ]
  },
  {
   "cell_type": "code",
   "execution_count": 6,
   "id": "7392f8f7-e94e-40ca-8806-7c5adca6976a",
   "metadata": {},
   "outputs": [
    {
     "name": "stdin",
     "output_type": "stream",
     "text": [
      "Nhap chan duoi: 2\n",
      "Nhap chan tren: 40\n"
     ]
    },
    {
     "name": "stdout",
     "output_type": "stream",
     "text": [
      "4 \n",
      "6 \n",
      "8 \n",
      "10 \n",
      "12 \n",
      "14 \n",
      "16 \n",
      "18 \n",
      "20 \n",
      "22 \n",
      "24 \n",
      "26 \n",
      "28 \n",
      "30 \n",
      "32 \n",
      "34 \n",
      "36 \n",
      "38 \n"
     ]
    }
   ],
   "source": [
    "def insochan(M,N):\n",
    "    for i in range (M+1,N):\n",
    "        if i % 2 == 0 :\n",
    "            print(\"%d \" %i)\n",
    "M = int(input(\"Nhap chan duoi:\"))\n",
    "N = int(input(\"Nhap chan tren:\"))\n",
    "insochan(M,N) "
   ]
  },
  {
   "cell_type": "code",
   "execution_count": 7,
   "id": "48595736-bfc2-4637-9e6c-cbabb5ad15a1",
   "metadata": {},
   "outputs": [
    {
     "name": "stdout",
     "output_type": "stream",
     "text": [
      "112 \n",
      "119 \n",
      "126 \n",
      "133 \n",
      "147 \n",
      "154 \n",
      "161 \n",
      "168 \n",
      "182 \n",
      "189 \n",
      "196 \n",
      "203 \n",
      "217 \n",
      "224 \n",
      "231 \n",
      "238 \n",
      "252 \n",
      "259 \n",
      "266 \n",
      "273 \n",
      "287 \n",
      "294 \n",
      "301 \n",
      "308 \n",
      "322 \n",
      "329 \n",
      "336 \n",
      "343 \n",
      "357 \n",
      "364 \n",
      "371 \n",
      "378 \n",
      "392 \n",
      "399 \n",
      "406 \n",
      "413 \n",
      "427 \n",
      "434 \n",
      "441 \n",
      "448 \n",
      "462 \n",
      "469 \n",
      "476 \n",
      "483 \n",
      "497 \n",
      "504 \n",
      "511 \n",
      "518 \n",
      "532 \n",
      "539 \n",
      "546 \n",
      "553 \n",
      "567 \n",
      "574 \n",
      "581 \n",
      "588 \n",
      "602 \n",
      "609 \n",
      "616 \n",
      "623 \n",
      "637 \n",
      "644 \n",
      "651 \n",
      "658 \n",
      "672 \n",
      "679 \n",
      "686 \n",
      "693 \n",
      "707 \n",
      "714 \n",
      "721 \n",
      "728 \n",
      "742 \n",
      "749 \n",
      "756 \n",
      "763 \n",
      "777 \n",
      "784 \n",
      "791 \n",
      "798 \n",
      "812 \n",
      "819 \n",
      "826 \n",
      "833 \n",
      "847 \n",
      "854 \n",
      "861 \n",
      "868 \n",
      "882 \n",
      "889 \n",
      "896 \n",
      "903 \n",
      "917 \n",
      "924 \n",
      "931 \n",
      "938 \n",
      "952 \n",
      "959 \n",
      "966 \n",
      "973 \n",
      "987 \n",
      "994 \n"
     ]
    }
   ],
   "source": [
    "def lietke1(M,N):\n",
    "    for i in range(M,N+1):\n",
    "        if (i%7==0) and (i%5!=0):\n",
    "            print(\"%d \" %i)\n",
    "            \n",
    "M = 99\n",
    "N = 999\n",
    "lietke1(M,N)"
   ]
  },
  {
   "cell_type": "code",
   "execution_count": 8,
   "id": "cce40e89-b6d5-47d5-b2a8-6cc213d2d251",
   "metadata": {},
   "outputs": [
    {
     "name": "stdout",
     "output_type": "stream",
     "text": [
      "126 \n"
     ]
    }
   ],
   "source": [
    "def lietke2(M,N):\n",
    "    q = -1\n",
    "    for i in range(M,N+1):\n",
    "        if (i%9==0) and (i%7==0):\n",
    "            q = i\n",
    "            break\n",
    "    return q\n",
    "M = 64\n",
    "N = 300\n",
    "q = lietke2(M,N)\n",
    "if (q == -1):\n",
    "    print(\"khong co so thoa dieu kien\")\n",
    "else:\n",
    "    print(\"%d \" %q)"
   ]
  },
  {
   "cell_type": "markdown",
   "id": "f6b1e67f-48c7-4a59-8ef4-d9a5009d7f09",
   "metadata": {},
   "source": [
    "### TH 3 : Nhập một số nguyên, đếm xem số đó có bao nhiêu chữ số và tính tổng các chữ số."
   ]
  },
  {
   "cell_type": "code",
   "execution_count": 9,
   "id": "78248ee3-d889-4627-9d51-c2b79ed0db2a",
   "metadata": {},
   "outputs": [
    {
     "name": "stdin",
     "output_type": "stream",
     "text": [
      "Nhap n: 34\n"
     ]
    },
    {
     "name": "stdout",
     "output_type": "stream",
     "text": [
      "4\n",
      "3\n",
      "so luong chu so: 2\n",
      "tong cac chu so:7\n"
     ]
    }
   ],
   "source": [
    "def Tinh(n):\n",
    "    tong= 0\n",
    "    dem = 0\n",
    "    while(n>0):\n",
    "        sodu = n%10\n",
    "        tong = tong+sodu\n",
    "        dem = dem+1\n",
    "        n = n//10\n",
    "        print(sodu)\n",
    "    return tong,dem\n",
    "a = int(input(\"Nhap n:\"))\n",
    "tong, sochuso = Tinh(a)\n",
    "print(\"so luong chu so: %d\" % sochuso)\n",
    "print(\"tong cac chu so:%d\" %tong)"
   ]
  },
  {
   "cell_type": "markdown",
   "id": "93a75733-d42a-47b6-9cc6-00a8689adacd",
   "metadata": {},
   "source": [
    "### TH4 : Đệ quy – Tính giai thừa của một số nguyên dương n"
   ]
  },
  {
   "cell_type": "code",
   "execution_count": 10,
   "id": "a080e712-7d3e-4830-aef4-1ccccc58be6f",
   "metadata": {},
   "outputs": [
    {
     "name": "stdout",
     "output_type": "stream",
     "text": [
      "Giai thừa của 5 là 120\n"
     ]
    }
   ],
   "source": [
    "def giaithua(n):\n",
    "    if n == 1:\n",
    "        return 1\n",
    "    else:\n",
    "        return (n * giaithua(n-1))\n",
    "num = 5\n",
    "print(\"Giai thừa của\", num, \"là\", giaithua(num))"
   ]
  },
  {
   "cell_type": "markdown",
   "id": "c7ff292d-e48e-4a90-a4d3-1b0d71fddc99",
   "metadata": {},
   "source": [
    "### TH5 : Đệ quy – Tính lũy thừa a^b"
   ]
  },
  {
   "cell_type": "code",
   "execution_count": 11,
   "id": "f45e66e2-7733-488d-8257-d7bda868de57",
   "metadata": {},
   "outputs": [
    {
     "name": "stdout",
     "output_type": "stream",
     "text": [
      "2 ^ 3 = 8\n"
     ]
    }
   ],
   "source": [
    "def power(a,b):\n",
    "        if b==0:\n",
    "            return 1\n",
    "        elif a==0:\n",
    "            return 0\n",
    "        elif b==1:\n",
    "            return a\n",
    "        else:\n",
    "            return a*power(a,b-1)\n",
    "a = 2\n",
    "b = 3\n",
    "print(a,\"^\",b,\"=\", power(a,b))"
   ]
  },
  {
   "cell_type": "markdown",
   "id": "b47d208b-1de0-41d5-84e1-6518f0e3dc36",
   "metadata": {},
   "source": [
    "## Thực hành 2"
   ]
  },
  {
   "cell_type": "markdown",
   "id": "1a87529e-8e9c-452c-833c-9213934cbf7a",
   "metadata": {},
   "source": [
    "### Bài 1"
   ]
  },
  {
   "cell_type": "code",
   "execution_count": 12,
   "id": "51f30d8e-9423-46db-9db0-0f6d307e2f7a",
   "metadata": {},
   "outputs": [
    {
     "name": "stdout",
     "output_type": "stream",
     "text": [
      "chieu dai chuoi : 20\n",
      "check len() function: 20\n"
     ]
    }
   ],
   "source": [
    "def chieudaiChuoi(strl):\n",
    "    count = 0 \n",
    "    for char in strl:\n",
    "        count += 1\n",
    "    return count\n",
    "\n",
    "ss = 'hello world ... !!!!'\n",
    "print('chieu dai chuoi : {}'.format(chieudaiChuoi(ss)))\n",
    "print('check len() function:', len(ss))"
   ]
  },
  {
   "cell_type": "markdown",
   "id": "f54b677e-8239-4c70-830b-b7e7279c9aa2",
   "metadata": {},
   "source": [
    "### Bài 2"
   ]
  },
  {
   "cell_type": "code",
   "execution_count": 13,
   "id": "033ce6cc-2176-474b-b717-dd6767b9b5c3",
   "metadata": {},
   "outputs": [
    {
     "name": "stdout",
     "output_type": "stream",
     "text": [
      "input:  Tach chuoi dung split\n",
      "tach tu: ['Tach', 'chuoi', 'dung', 'split']\n",
      "The number of words in string are :  4\n"
     ]
    }
   ],
   "source": [
    "### TH 1: Dung split\n",
    "test_string = \"Tach chuoi dung split\"\n",
    "print(\"input: \", test_string)\n",
    "temp = test_string.split()\n",
    "print(\"tach tu:\", temp)\n",
    "res = len(temp)\n",
    "print(\"The number of words in string are : \", str(res))"
   ]
  },
  {
   "cell_type": "code",
   "execution_count": 14,
   "id": "4eb9aa45-1e17-41f6-9f1f-4ccbc30cbfa6",
   "metadata": {},
   "outputs": [
    {
     "name": "stdout",
     "output_type": "stream",
     "text": [
      "The number of words in string are 4\n"
     ]
    }
   ],
   "source": [
    "# TH2\n",
    "test_string = \"tach chuoi thanh tu\"\n",
    "if len(test_string) == 0 or (test_string.isspace()):\n",
    "    print(\"The number of words in string are = \", 0)\n",
    "else:\n",
    "    total = 0\n",
    "    test_string = test_string+ ' '\n",
    "    for i in range(len(test_string)-1):\n",
    "        if(test_string[i] != ' ' and test_string[i+1] == ' '):\n",
    "            total = total + 1\n",
    "    print(\"The number of words in string are\", total)"
   ]
  },
  {
   "cell_type": "markdown",
   "id": "1821a343-9185-417f-8544-6df25b4d924b",
   "metadata": {},
   "source": [
    "### Bài 3"
   ]
  },
  {
   "cell_type": "code",
   "execution_count": 15,
   "id": "3bb566ee-c7fb-43d8-981d-92c0a431e94b",
   "metadata": {},
   "outputs": [],
   "source": [
    "test_string = \" !! fdafdaf \"\n",
    "valid_symbols = \"!@#$%^&*()_-+={}[]<>`/>,\"\n",
    "def dem_nguyenam_phuam(string):\n",
    "    nguyenam = 0\n",
    "    phuam = 0\n",
    "    for char in string:\n",
    "        if char !=' ' and char not in valid_symbols:\n",
    "            if char in \"aeiouAEIOU\":\n",
    "                nguyenam = nguyenam+1\n",
    "            else:\n",
    "                phuam = phuam+1\n",
    "    return nguyenam, phuam"
   ]
  },
  {
   "cell_type": "code",
   "execution_count": 16,
   "id": "67690160-2dee-4452-8af6-8a2f72141a62",
   "metadata": {},
   "outputs": [
    {
     "name": "stdout",
     "output_type": "stream",
     "text": [
      "12\n",
      "2 5\n"
     ]
    }
   ],
   "source": [
    "print(len(test_string))\n",
    "v,c = dem_nguyenam_phuam(test_string)\n",
    "print(v,c)"
   ]
  },
  {
   "cell_type": "code",
   "execution_count": 19,
   "id": "eed82447-df06-41e2-95d9-30072964ff74",
   "metadata": {},
   "outputs": [],
   "source": [
    "def dem_nguyenam_phuam2(string):\n",
    "    nguyenam = 0\n",
    "    phuam = 0\n",
    "    for i in string:\n",
    "        if i !=' ' and i not in valid_symbols:\n",
    "            if(i=='a' or i=='e' or i=='i' or i=='o' or i=='u' or i=='A' or i=='E' or i=='I' or i=='O' or i=='U'): \n",
    "                nguyenam = nguyenam+1\n",
    "            else:\n",
    "                phuam = phuam+1\n",
    "    return nguyenam, phuam"
   ]
  },
  {
   "cell_type": "code",
   "execution_count": 20,
   "id": "e89408fc-d46a-4271-ae1f-b9b676a30fa7",
   "metadata": {},
   "outputs": [
    {
     "name": "stdout",
     "output_type": "stream",
     "text": [
      "12\n",
      "2 5\n"
     ]
    }
   ],
   "source": [
    "print(len(test_string))\n",
    "v,c = dem_nguyenam_phuam(test_string)\n",
    "print(v,c)"
   ]
  },
  {
   "cell_type": "markdown",
   "id": "32d28107-c4ff-4dc9-a693-2e20952393d6",
   "metadata": {},
   "source": [
    "## Thực hành 3"
   ]
  },
  {
   "cell_type": "markdown",
   "id": "cca4fa29-8782-4e78-864c-c55714570780",
   "metadata": {},
   "source": [
    "### Bài 1"
   ]
  },
  {
   "cell_type": "code",
   "execution_count": 22,
   "id": "a2ca759e-228c-475c-9575-40a542010945",
   "metadata": {},
   "outputs": [
    {
     "name": "stdout",
     "output_type": "stream",
     "text": [
      "Input: ['3', '27', '5', '123', '9', '1']\n",
      "StringSort: ['1', '123', '27', '3', '5', '9']\n",
      "INTSort: ['1', '3', '5', '9', '27', '123']\n"
     ]
    }
   ],
   "source": [
    "A = ['3', '27', '5', '123', '9', '1']\n",
    "print(\"Input:\", A)\n",
    "StringSort = sorted(A)\n",
    "print(\"StringSort:\", StringSort)\n",
    "\n",
    "def myintSort(a):\n",
    "     return int(a)\n",
    "INTSort = sorted(A,key=myintSort)\n",
    "print(\"INTSort:\", INTSort)"
   ]
  },
  {
   "cell_type": "markdown",
   "id": "0512889d-03bf-4f66-aa47-c7096c23d8c6",
   "metadata": {},
   "source": [
    "### Bài 2"
   ]
  },
  {
   "cell_type": "code",
   "execution_count": 24,
   "id": "a7fb1274-a110-4dc9-8294-a1d28a26758c",
   "metadata": {},
   "outputs": [
    {
     "name": "stdout",
     "output_type": "stream",
     "text": [
      "Input: [12, 24, 35, 70, 88, 120, 155]\n",
      "Sau khi Xoa: [12, 88, 120]\n"
     ]
    }
   ],
   "source": [
    "A = [12,24,35,70,88,120,155]\n",
    "print(\"Input:\", A)\n",
    "\n",
    "indexR = [1,2,3,6]\n",
    "\n",
    "B = [x for i,x in enumerate(A) if i not in indexR]\n",
    "print(\"Sau khi Xoa:\", B)"
   ]
  },
  {
   "cell_type": "markdown",
   "id": "e8ac50c5-b224-4e18-9332-aa8f057796ad",
   "metadata": {},
   "source": [
    "### Bài 3"
   ]
  },
  {
   "cell_type": "code",
   "execution_count": 26,
   "id": "edd67512-8a69-4776-a163-6a8d57706746",
   "metadata": {},
   "outputs": [
    {
     "name": "stdout",
     "output_type": "stream",
     "text": [
      "Input: [1, 1, 1, 2, 2, 2, 3, 1, 2, 5, 6, 7, 8, 5, 6, 7]\n",
      "Output_1: [1, 2, 3, 5, 6, 7, 8]\n",
      "Output_2: [1, 2, 3, 5, 6, 7, 8]\n",
      "Output_3: [1, 2, 3, 5, 6, 7, 8]\n",
      "Output_4: [1, 2, 3, 5, 6, 7, 8]\n"
     ]
    }
   ],
   "source": [
    "A = [1, 1, 1, 2, 2, 2, 3, 1, 2, 5, 6, 7, 8, 5, 6, 7]\n",
    "print(\"Input:\", A)\n",
    "B = []\n",
    "[B.append(x) for x in A if x not in B]\n",
    "print(\"Output_1:\", B)\n",
    "\n",
    "newlist=[ii for n,ii in enumerate(A) if ii not in A[:n]]\n",
    "print(\"Output_2:\",newlist)\n",
    "\n",
    "Newlist_set = list(set(A))\n",
    "print(\"Output_3:\",Newlist_set)\n",
    "\n",
    "mylist = list(dict.fromkeys(A))\n",
    "print(\"Output_4:\", mylist)"
   ]
  },
  {
   "cell_type": "markdown",
   "id": "ab412988-4843-4d8c-bbb0-d7dd7380a09e",
   "metadata": {},
   "source": [
    "### Bài 4"
   ]
  },
  {
   "cell_type": "code",
   "execution_count": 27,
   "id": "45fae2b3-c5d0-46ec-a2ce-7b47d95e9451",
   "metadata": {},
   "outputs": [
    {
     "name": "stdout",
     "output_type": "stream",
     "text": [
      "1:4,2:4,3:2,4:1,5:2,\n",
      "\n",
      "[[1, 4], [2, 4], [3, 2], [4, 1], [5, 2]]\n",
      "1:4,2:4,3:2,4:1,5:2,\n",
      "\n",
      "{1: 4, 2: 4, 3: 2, 4: 1, 5: 2}\n",
      "Counter({1: 4, 2: 4, 3: 2, 5: 2, 4: 1})\n"
     ]
    }
   ],
   "source": [
    "A = [1,1,1,1,2,2,2,2,3,3,4,5,5]\n",
    "# khong dung set va dicionary\n",
    "e=[]\n",
    "for i in range(len(A)):\n",
    "    if A[i] not in e:\n",
    "        e.append(A[i])\n",
    "        print(A[i],\":\",A.count(A[i]),sep='',end =\",\")\n",
    "print(\"\\n\")\n",
    "# dung tap hop\n",
    "b = [[x,A.count(x)] for x in set(A)]\n",
    "print(b)\n",
    "for i in range(len(b)):\n",
    "    print(b[i][0],\":\",b[i][1],sep='',end =\",\")\n",
    "print(\"\\n\")\n",
    "\n",
    "# dung tu dien\n",
    "d = {x:A.count(x) for x in A}\n",
    "print(d)\n",
    "# dung Counter()\n",
    "import collections\n",
    "ctr = collections.Counter(A)\n",
    "print(ctr)"
   ]
  },
  {
   "cell_type": "code",
   "execution_count": null,
   "id": "4394b530-000c-4d35-8f94-ead1e9e7d8c6",
   "metadata": {},
   "outputs": [],
   "source": []
  }
 ],
 "metadata": {
  "kernelspec": {
   "display_name": "Python [conda env:base] *",
   "language": "python",
   "name": "conda-base-py"
  },
  "language_info": {
   "codemirror_mode": {
    "name": "ipython",
    "version": 3
   },
   "file_extension": ".py",
   "mimetype": "text/x-python",
   "name": "python",
   "nbconvert_exporter": "python",
   "pygments_lexer": "ipython3",
   "version": "3.13.5"
  }
 },
 "nbformat": 4,
 "nbformat_minor": 5
}

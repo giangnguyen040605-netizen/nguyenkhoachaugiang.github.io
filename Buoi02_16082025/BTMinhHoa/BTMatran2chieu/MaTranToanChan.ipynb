{
 "cells": [
  {
   "cell_type": "code",
   "execution_count": 1,
   "id": "3f059de9-2fc8-4b0f-b189-ebefefe5625c",
   "metadata": {},
   "outputs": [
    {
     "name": "stdout",
     "output_type": "stream",
     "text": [
      "Writing MaTranToanChan.in0\n"
     ]
    }
   ],
   "source": [
    "%%writefile MaTranToanChan.in0\n",
    "2 3\n",
    "2 4 6\n",
    "8 10 12"
   ]
  },
  {
   "cell_type": "code",
   "execution_count": 2,
   "id": "3a38cfca-da0d-4837-b317-4a8babc32362",
   "metadata": {},
   "outputs": [
    {
     "name": "stdout",
     "output_type": "stream",
     "text": [
      "Mang A toan chan!\n"
     ]
    }
   ],
   "source": [
    "!python MaTranToanChan.py < MaTranToanChan.in0"
   ]
  },
  {
   "cell_type": "code",
   "execution_count": 4,
   "id": "dfa41a13-6085-4b91-93a7-9670c1fe6b3e",
   "metadata": {},
   "outputs": [
    {
     "name": "stdout",
     "output_type": "stream",
     "text": [
      "Writing MaTranToanChan.in1\n"
     ]
    }
   ],
   "source": [
    "%%writefile MaTranToanChan.in1\n",
    "2 3\n",
    "2 4 6\n",
    "8 10 13"
   ]
  },
  {
   "cell_type": "code",
   "execution_count": 5,
   "id": "006c8735-2e0d-41d9-8f57-9ca45022b723",
   "metadata": {},
   "outputs": [
    {
     "name": "stdout",
     "output_type": "stream",
     "text": [
      "Mang A khong toan chan!\n"
     ]
    }
   ],
   "source": [
    "!python MaTranToanChan.py < MaTranToanChan.in1"
   ]
  },
  {
   "cell_type": "code",
   "execution_count": null,
   "id": "a2277cda-d7fc-4ea6-81ed-462e3c152773",
   "metadata": {},
   "outputs": [],
   "source": []
  }
 ],
 "metadata": {
  "kernelspec": {
   "display_name": "Python [conda env:base] *",
   "language": "python",
   "name": "conda-base-py"
  },
  "language_info": {
   "codemirror_mode": {
    "name": "ipython",
    "version": 3
   },
   "file_extension": ".py",
   "mimetype": "text/x-python",
   "name": "python",
   "nbconvert_exporter": "python",
   "pygments_lexer": "ipython3",
   "version": "3.13.5"
  }
 },
 "nbformat": 4,
 "nbformat_minor": 5
}

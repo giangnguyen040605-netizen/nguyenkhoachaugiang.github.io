{
 "cells": [
  {
   "cell_type": "code",
   "execution_count": 3,
   "id": "fc9eee31-2e96-4bd6-ab56-cfac0346f38f",
   "metadata": {},
   "outputs": [
    {
     "name": "stdout",
     "output_type": "stream",
     "text": [
      "Writing Max3Num.in0\n"
     ]
    }
   ],
   "source": [
    "%%writefile Max3Num.in0\n",
    "2\n",
    "5\n",
    "4"
   ]
  },
  {
   "cell_type": "code",
   "execution_count": 8,
   "id": "b0b5b1e5-a486-47d7-aff1-33f3312e9826",
   "metadata": {},
   "outputs": [
    {
     "name": "stderr",
     "output_type": "stream",
     "text": [
      "  File \u001b[35m\"C:\\Users\\Admin\\Max3Num.py\"\u001b[0m, line \u001b[35m7\u001b[0m\n",
      "    \u001b[1;31mreturn\u001b[0m a if a > b else b\n",
      "    \u001b[1;31m^^^^^^\u001b[0m\n",
      "\u001b[1;35mIndentationError\u001b[0m: \u001b[35mexpected an indented block after function definition on line 6\u001b[0m\n"
     ]
    }
   ],
   "source": [
    "!python Max3Num.py < Max3Num.in0"
   ]
  },
  {
   "cell_type": "code",
   "execution_count": null,
   "id": "4fe7964f-d546-448e-8248-6c366adc8530",
   "metadata": {},
   "outputs": [],
   "source": []
  }
 ],
 "metadata": {
  "kernelspec": {
   "display_name": "Python [conda env:anaconda3] *",
   "language": "python",
   "name": "conda-env-anaconda3-py"
  },
  "language_info": {
   "codemirror_mode": {
    "name": "ipython",
    "version": 3
   },
   "file_extension": ".py",
   "mimetype": "text/x-python",
   "name": "python",
   "nbconvert_exporter": "python",
   "pygments_lexer": "ipython3",
   "version": "3.13.5"
  }
 },
 "nbformat": 4,
 "nbformat_minor": 5
}

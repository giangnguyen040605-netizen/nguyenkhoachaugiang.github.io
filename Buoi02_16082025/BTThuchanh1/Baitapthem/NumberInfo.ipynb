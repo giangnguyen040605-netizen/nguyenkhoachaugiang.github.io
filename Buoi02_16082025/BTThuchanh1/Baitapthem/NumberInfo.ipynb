{
 "cells": [
  {
   "cell_type": "code",
   "execution_count": 1,
   "id": "6219fa37-20f1-48fb-9504-80afb3618257",
   "metadata": {},
   "outputs": [
    {
     "name": "stdout",
     "output_type": "stream",
     "text": [
      "Writing NumberInfo.in0\n"
     ]
    }
   ],
   "source": [
    "%%writefile NumberInfo.in0\n",
    "156"
   ]
  },
  {
   "cell_type": "code",
   "execution_count": 2,
   "id": "204712b6-d353-466f-be74-fd4ef939e8f3",
   "metadata": {},
   "outputs": [],
   "source": [
    "!python NumberInfo.py < NumberInfo.in0"
   ]
  },
  {
   "cell_type": "code",
   "execution_count": null,
   "id": "d39dcf01-3c91-4e55-8c79-cd85f4444c5b",
   "metadata": {},
   "outputs": [],
   "source": []
  }
 ],
 "metadata": {
  "kernelspec": {
   "display_name": "Python [conda env:anaconda3] *",
   "language": "python",
   "name": "conda-env-anaconda3-py"
  },
  "language_info": {
   "codemirror_mode": {
    "name": "ipython",
    "version": 3
   },
   "file_extension": ".py",
   "mimetype": "text/x-python",
   "name": "python",
   "nbconvert_exporter": "python",
   "pygments_lexer": "ipython3",
   "version": "3.13.5"
  }
 },
 "nbformat": 4,
 "nbformat_minor": 5
}

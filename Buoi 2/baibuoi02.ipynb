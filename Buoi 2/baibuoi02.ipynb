{
  "nbformat": 4,
  "nbformat_minor": 0,
  "metadata": {
    "colab": {
      "provenance": [],
      "gpuType": "T4",
      "authorship_tag": "ABX9TyMgEHLMLT4Y25xIkDLhIFEs",
      "include_colab_link": true
    },
    "kernelspec": {
      "name": "python3",
      "display_name": "Python 3"
    },
    "language_info": {
      "name": "python"
    },
    "accelerator": "GPU"
  },
  "cells": [
    {
      "cell_type": "markdown",
      "metadata": {
        "id": "view-in-github",
        "colab_type": "text"
      },
      "source": [
        "<a href=\"https://colab.research.google.com/github/giangnguyen040605-netizen/nguyenkhoachaugiang.github.io/blob/main/baibuoi02.ipynb\" target=\"_parent\"><img src=\"https://colab.research.google.com/assets/colab-badge.svg\" alt=\"Open In Colab\"/></a>"
      ]
    },
    {
      "cell_type": "markdown",
      "source": [
        "**Ngôn ngữ Python**"
      ],
      "metadata": {
        "id": "76ia_L-qxYdA"
      }
    },
    {
      "cell_type": "code",
      "execution_count": 1,
      "metadata": {
        "colab": {
          "base_uri": "https://localhost:8080/"
        },
        "id": "DQ0mB-B4reMF",
        "outputId": "e235c1a8-2204-4411-d5fd-cfa0c980d116"
      },
      "outputs": [
        {
          "output_type": "stream",
          "name": "stdout",
          "text": [
            "Hello World\n"
          ]
        }
      ],
      "source": [
        "print('Hello World')"
      ]
    },
    {
      "cell_type": "code",
      "source": [
        "# Future Value\n",
        "pv = 100\n",
        "r = 0.1\n",
        "n = 7\n",
        "fv = pv * ((1 + (r)) ** n)\n",
        "print(round(fv, 2))"
      ],
      "metadata": {
        "colab": {
          "base_uri": "https://localhost:8080/"
        },
        "id": "vXQvUHnFsJlW",
        "outputId": "688ba816-4f74-4820-b8da-f7a62a3092e7"
      },
      "execution_count": 2,
      "outputs": [
        {
          "output_type": "stream",
          "name": "stdout",
          "text": [
            "194.87\n"
          ]
        }
      ]
    },
    {
      "cell_type": "code",
      "source": [
        "amount = 100\n",
        "interest = 10 #10% = 0.01 * 10\n",
        "years = 7\n",
        "\n",
        "future_value = amount * ((1 + (0.01 * interest)) ** years)\n",
        "print(round(future_value, 2))"
      ],
      "metadata": {
        "colab": {
          "base_uri": "https://localhost:8080/"
        },
        "id": "flGiuYbAtGcB",
        "outputId": "8e1bc4b3-de08-485f-9d87-4cd2101c8220"
      },
      "execution_count": 3,
      "outputs": [
        {
          "output_type": "stream",
          "name": "stdout",
          "text": [
            "194.87\n"
          ]
        }
      ]
    },
    {
      "cell_type": "code",
      "source": [
        "# Python Function def\n",
        "def getfv(pv, r, n):\n",
        "  fv = pv * ((1 + (r)) ** n)\n",
        "  return fv\n",
        "fv = getfv(100, 0.1, 7)\n",
        "print(round(fv, 2))"
      ],
      "metadata": {
        "colab": {
          "base_uri": "https://localhost:8080/"
        },
        "id": "qUq46L7duS4c",
        "outputId": "17707203-e38b-468c-dcf4-974d43d9ae9a"
      },
      "execution_count": 4,
      "outputs": [
        {
          "output_type": "stream",
          "name": "stdout",
          "text": [
            "194.87\n"
          ]
        }
      ]
    },
    {
      "cell_type": "code",
      "source": [
        "# Python if else\n",
        "score = 80\n",
        "if score >=60 :\n",
        "  print(\"Pass\")\n",
        "else:\n",
        "  print(\"Fail\")"
      ],
      "metadata": {
        "colab": {
          "base_uri": "https://localhost:8080/"
        },
        "id": "X2wAZz9_uw3j",
        "outputId": "cdc61be2-358a-4ee7-eff5-abc6d3ec62e2"
      },
      "execution_count": 5,
      "outputs": [
        {
          "output_type": "stream",
          "name": "stdout",
          "text": [
            "Pass\n"
          ]
        }
      ]
    },
    {
      "cell_type": "code",
      "source": [
        "print(\"Hello World\")"
      ],
      "metadata": {
        "colab": {
          "base_uri": "https://localhost:8080/"
        },
        "id": "PuKLKRxOvOks",
        "outputId": "6bdbcf8c-a1ad-4b9a-bbfc-de7a304dd89e"
      },
      "execution_count": 6,
      "outputs": [
        {
          "output_type": "stream",
          "name": "stdout",
          "text": [
            "Hello World\n"
          ]
        }
      ]
    },
    {
      "cell_type": "code",
      "source": [
        "# comment"
      ],
      "metadata": {
        "id": "N7gVW948vSJv"
      },
      "execution_count": 15,
      "outputs": []
    },
    {
      "cell_type": "code",
      "source": [
        "score = 80\n",
        "if score >=60 :\n",
        "   print(\"Pass\")"
      ],
      "metadata": {
        "colab": {
          "base_uri": "https://localhost:8080/"
        },
        "id": "noc_uNrHviCL",
        "outputId": "3d1b1098-d630-4013-b3d6-6c63e10896bf"
      },
      "execution_count": 17,
      "outputs": [
        {
          "output_type": "stream",
          "name": "stdout",
          "text": [
            "Pass\n"
          ]
        }
      ]
    },
    {
      "cell_type": "code",
      "source": [
        "# Python Variables\n",
        "x = 2\n",
        "price = 2.5\n",
        "word = 'Hello'\n",
        "word = 'Hello'\n",
        "word = \"Hello\"\n",
        "word = '''Hello'''"
      ],
      "metadata": {
        "id": "ne61W-YdwHXp"
      },
      "execution_count": 19,
      "outputs": []
    },
    {
      "cell_type": "code",
      "source": [
        "x = 2\n",
        "y = x + 1"
      ],
      "metadata": {
        "id": "cSuRtYC3wLKt"
      },
      "execution_count": 20,
      "outputs": []
    },
    {
      "cell_type": "code",
      "source": [
        "# comment\n",
        "from platform import python_version\n",
        "print(\"Python Version:\", python_version())"
      ],
      "metadata": {
        "colab": {
          "base_uri": "https://localhost:8080/"
        },
        "id": "sE1vFyC7wQGd",
        "outputId": "c743f8bb-7d0a-4beb-e239-e29e972da42a"
      },
      "execution_count": 21,
      "outputs": [
        {
          "output_type": "stream",
          "name": "stdout",
          "text": [
            "Python Version: 3.11.13\n"
          ]
        }
      ]
    },
    {
      "cell_type": "code",
      "source": [
        "x = \"Hello World\" #str\n",
        "x = 2 #int\n",
        "x = 2.5 #float\n",
        "x = 7j #complex"
      ],
      "metadata": {
        "id": "WgLoMhOQwU4l"
      },
      "execution_count": 22,
      "outputs": []
    },
    {
      "cell_type": "code",
      "source": [
        "x = [\"apple\", \"banana\", \"cherry\"] #list\n",
        "x = (\"apple\", \"banana\", \"cherry\") #tuple\n",
        "x = range(6) #range\n",
        "x = {\"name\" : \"Tom\", \"age\" : 20} #dict\n",
        "x = {\"apple\", \"banana\", \"cherry\"} #set\n",
        "x = frozenset({\"apple\", \"banana\", \"cherry\"})\n",
        "#frozenset"
      ],
      "metadata": {
        "id": "yrWhjvtNwY1B"
      },
      "execution_count": 23,
      "outputs": []
    },
    {
      "cell_type": "code",
      "source": [
        "x = True #bool\n",
        "x = b\"Hello\" #bytes\n",
        "x = bytearray(5) #bytearray\n",
        "x = memoryview(bytes(5)) #memoryview\n",
        "x = None #NoneType"
      ],
      "metadata": {
        "id": "snV6gR_5wc_k"
      },
      "execution_count": 24,
      "outputs": []
    },
    {
      "cell_type": "code",
      "source": [
        "x = str(3) # x will be '3'\n",
        "y = int(3) # y will be 3\n",
        "z = float(3) # z will be 3.0\n",
        "print(x, type(x))\n",
        "print(y, type(y))\n",
        "print(z, type(z))\n"
      ],
      "metadata": {
        "colab": {
          "base_uri": "https://localhost:8080/"
        },
        "id": "491WdOUrwhCT",
        "outputId": "0f835714-2706-479f-cc6b-434d1cb9d8c5"
      },
      "execution_count": 25,
      "outputs": [
        {
          "output_type": "stream",
          "name": "stdout",
          "text": [
            "3 <class 'str'>\n",
            "3 <class 'int'>\n",
            "3.0 <class 'float'>\n"
          ]
        }
      ]
    },
    {
      "cell_type": "code",
      "source": [
        "x = 2 # int\n",
        "y = 3.4 # float\n",
        "z = 7j #complex\n",
        "print(x, type(x))\n",
        "print(y, type(y))\n",
        "print(z, type(z))"
      ],
      "metadata": {
        "colab": {
          "base_uri": "https://localhost:8080/"
        },
        "id": "SMqkxdstwigy",
        "outputId": "745f4c71-6b78-4cdd-d321-ef01a3906ea4"
      },
      "execution_count": 26,
      "outputs": [
        {
          "output_type": "stream",
          "name": "stdout",
          "text": [
            "2 <class 'int'>\n",
            "3.4 <class 'float'>\n",
            "7j <class 'complex'>\n"
          ]
        }
      ]
    },
    {
      "cell_type": "code",
      "source": [
        "print('7 + 2 =', 7 + 2)\n",
        "print('7 - 2 =', 7 - 2)\n",
        "print('7 * 2 =', 7 * 2)\n",
        "print('7 / 2 =', 7 / 2)\n",
        "print('7 // 2 =', 7 // 2)\n",
        "print('7 % 2 =', 7 % 2)\n",
        "print('7 ** 2 =', 7 ** 2)"
      ],
      "metadata": {
        "colab": {
          "base_uri": "https://localhost:8080/"
        },
        "id": "SIRcX4bZwst2",
        "outputId": "bda4c320-6740-471d-c256-8590bc62e907"
      },
      "execution_count": 27,
      "outputs": [
        {
          "output_type": "stream",
          "name": "stdout",
          "text": [
            "7 + 2 = 9\n",
            "7 - 2 = 5\n",
            "7 * 2 = 14\n",
            "7 / 2 = 3.5\n",
            "7 // 2 = 3\n",
            "7 % 2 = 1\n",
            "7 ** 2 = 49\n"
          ]
        }
      ]
    },
    {
      "cell_type": "code",
      "source": [
        "# Python Booleans: True or False\n",
        "print(3 > 2)\n",
        "print(3 == 2)\n",
        "print(3 < 2)"
      ],
      "metadata": {
        "colab": {
          "base_uri": "https://localhost:8080/"
        },
        "id": "dUjUAAUGwxj3",
        "outputId": "354dd417-7579-44de-b3b4-d23c58ed9186"
      },
      "execution_count": 28,
      "outputs": [
        {
          "output_type": "stream",
          "name": "stdout",
          "text": [
            "True\n",
            "False\n",
            "False\n"
          ]
        }
      ]
    },
    {
      "cell_type": "code",
      "source": [
        "# BMI Calculator in Python\n",
        "height_cm = 170\n",
        "weight_kg = 60\n",
        "height_m = height_cm/100\n",
        "BMI = (weight_kg/(height_m**2))\n",
        "print(\"Your BMI is: \" + str(round(BMI,1)))"
      ],
      "metadata": {
        "colab": {
          "base_uri": "https://localhost:8080/"
        },
        "id": "6S5o6S2Qw1K-",
        "outputId": "a7617145-6c89-4d82-d075-35f7c008de7e"
      },
      "execution_count": 29,
      "outputs": [
        {
          "output_type": "stream",
          "name": "stdout",
          "text": [
            "Your BMI is: 20.8\n"
          ]
        }
      ]
    },
    {
      "cell_type": "code",
      "source": [
        "# How much is your $100 worth after 7 years?\n",
        "fv = 100 * 1.1 ** 7\n",
        "print('fv = ', round(fv, 2))\n",
        "# output = 194.87"
      ],
      "metadata": {
        "colab": {
          "base_uri": "https://localhost:8080/"
        },
        "id": "LRrwU-Gkw5EG",
        "outputId": "2daa3c9d-332c-451e-ae19-29664fa8fb8d"
      },
      "execution_count": 30,
      "outputs": [
        {
          "output_type": "stream",
          "name": "stdout",
          "text": [
            "fv =  194.87\n"
          ]
        }
      ]
    },
    {
      "cell_type": "code",
      "source": [
        "# Future Value\n",
        "pv = 100\n",
        "r = 0.1\n",
        "n = 7\n",
        "fv = pv * ((1 + (r)) ** n)\n",
        "print(round(fv, 2))"
      ],
      "metadata": {
        "colab": {
          "base_uri": "https://localhost:8080/"
        },
        "id": "Wv8WmAhqw9Bm",
        "outputId": "f248af7f-4d3d-4b1e-f01f-52ccc9f330f7"
      },
      "execution_count": 31,
      "outputs": [
        {
          "output_type": "stream",
          "name": "stdout",
          "text": [
            "194.87\n"
          ]
        }
      ]
    },
    {
      "cell_type": "code",
      "source": [
        "# Future Value\n",
        "amount = 100\n",
        "interest = 10 #10% = 0.01 * 10\n",
        "years = 7\n",
        "future_value = amount * ((1 + (0.01 * interest)) ** years)\n",
        "print(round(future_value, 2))"
      ],
      "metadata": {
        "colab": {
          "base_uri": "https://localhost:8080/"
        },
        "id": "2UU4jFt1xLXp",
        "outputId": "8723abe3-4bf1-41ba-88bb-1275b733fb05"
      },
      "execution_count": 32,
      "outputs": [
        {
          "output_type": "stream",
          "name": "stdout",
          "text": [
            "194.87\n"
          ]
        }
      ]
    },
    {
      "cell_type": "markdown",
      "source": [
        "Cấu trúc dữ liệu"
      ],
      "metadata": {
        "id": "LedHKw2OyUN7"
      }
    },
    {
      "cell_type": "code",
      "source": [
        "x = [\"apple\", \"banana\", \"cherry\"] #list\n",
        "x = (\"apple\", \"banana\", \"cherry\") #tuple\n",
        "x = {\"name\" : \"Tom\", \"age\" : 20} #dict\n",
        "x = {\"apple\", \"banana\", \"cherry\"} #set"
      ],
      "metadata": {
        "id": "9rhdG-9YyYdb"
      },
      "execution_count": 33,
      "outputs": []
    },
    {
      "cell_type": "code",
      "source": [
        "x = [60, 70, 80, 90]\n",
        "print(len(x))\n",
        "print(x[0])\n",
        "print(x[1])\n",
        "print(x[-1])"
      ],
      "metadata": {
        "colab": {
          "base_uri": "https://localhost:8080/"
        },
        "id": "ldHBNadUyfUB",
        "outputId": "e35bdb9b-0c5b-4cb0-90a1-d5d49f83d3e9"
      },
      "execution_count": 34,
      "outputs": [
        {
          "output_type": "stream",
          "name": "stdout",
          "text": [
            "4\n",
            "60\n",
            "70\n",
            "90\n"
          ]
        }
      ]
    },
    {
      "cell_type": "code",
      "source": [
        "x = (10, 20, 30, 40, 50)\n",
        "print(x[0])\n",
        "print(x[1])\n",
        "print(x[2])\n",
        "print(x[-1])"
      ],
      "metadata": {
        "colab": {
          "base_uri": "https://localhost:8080/"
        },
        "id": "VVx3s89Ryi-z",
        "outputId": "0ec29cd0-bd4c-42ac-ee1a-a01ee607f535"
      },
      "execution_count": 35,
      "outputs": [
        {
          "output_type": "stream",
          "name": "stdout",
          "text": [
            "10\n",
            "20\n",
            "30\n",
            "50\n"
          ]
        }
      ]
    },
    {
      "cell_type": "code",
      "source": [
        "animals = {'cat', 'dog'}\n",
        "print('cat' in animals)\n",
        "print('fish' in animals)\n",
        "animals.add('fish')\n",
        "print('fish' in animals)\n",
        "print(len(animals))\n",
        "animals.add('cat')\n",
        "print(len(animals))\n",
        "animals.remove('cat')\n",
        "print(len(animals))"
      ],
      "metadata": {
        "colab": {
          "base_uri": "https://localhost:8080/"
        },
        "id": "D769XPHlyn7C",
        "outputId": "b0927f7a-7535-4f2d-def3-897732f14c82"
      },
      "execution_count": 37,
      "outputs": [
        {
          "output_type": "stream",
          "name": "stdout",
          "text": [
            "True\n",
            "False\n",
            "True\n",
            "3\n",
            "3\n",
            "2\n"
          ]
        }
      ]
    },
    {
      "cell_type": "code",
      "source": [
        "# dictionary\n",
        "k = { 'EN':'English','FR':'French' }\n",
        "print(k['EN'])"
      ],
      "metadata": {
        "colab": {
          "base_uri": "https://localhost:8080/"
        },
        "id": "YEudiMvmzsMt",
        "outputId": "7bdafc9d-17a2-4775-9c11-0484b01409a4"
      },
      "execution_count": 38,
      "outputs": [
        {
          "output_type": "stream",
          "name": "stdout",
          "text": [
            "English\n"
          ]
        }
      ]
    },
    {
      "cell_type": "code",
      "source": [
        "fruits = [\"apple\", \"banana\", \"cherry\"] #lists []\n",
        "colors = (\"red\", \"green\", \"blue\") #tuples ()\n",
        "animals = {'cat', 'dog'} #sets {}\n",
        "person = {\"name\" : \"Tom\", \"age\" : 20} #dictionaries {}"
      ],
      "metadata": {
        "id": "_jCtreecz5bP"
      },
      "execution_count": 39,
      "outputs": []
    },
    {
      "cell_type": "code",
      "source": [
        "# lists\n",
        "expenses = [72.50, 80.75, 50.00, 90.25]\n",
        "total_expenses = sum(expenses)\n",
        "print(\"Total expenses:\", total_expenses)"
      ],
      "metadata": {
        "colab": {
          "base_uri": "https://localhost:8080/"
        },
        "id": "D5Q0gBatz_df",
        "outputId": "02204b44-1231-4e99-c9f8-0fea73696af4"
      },
      "execution_count": 40,
      "outputs": [
        {
          "output_type": "stream",
          "name": "stdout",
          "text": [
            "Total expenses: 293.5\n"
          ]
        }
      ]
    },
    {
      "cell_type": "code",
      "source": [
        "# tuples\n",
        "accounts = ((\"Cash\", 1001), (\"Accounts Receivable\", 1002),\n",
        "(\"Inventory\", 1003))\n",
        "for account in accounts:\n",
        "    print(\"Account name:\", account[0], \"Account number:\", account[1])"
      ],
      "metadata": {
        "colab": {
          "base_uri": "https://localhost:8080/"
        },
        "id": "r41wSOjC0kRW",
        "outputId": "6f836e99-24e4-4c69-edf3-221ff2dd74b8"
      },
      "execution_count": 42,
      "outputs": [
        {
          "output_type": "stream",
          "name": "stdout",
          "text": [
            "Account name: Cash Account number: 1001\n",
            "Account name: Accounts Receivable Account number: 1002\n",
            "Account name: Inventory Account number: 1003\n"
          ]
        }
      ]
    },
    {
      "cell_type": "code",
      "source": [
        "# set\n",
        "account_numbers = set([acc[1] for acc in accounts]) #set comprehensive\n",
        "print(account_numbers)\n",
        "new_acc_number = 1004\n",
        "if new_acc_number not in account_numbers:\n",
        "  print(f'Account number {new_acc_number} is not in use')"
      ],
      "metadata": {
        "colab": {
          "base_uri": "https://localhost:8080/"
        },
        "id": "zZV6im2P0-qG",
        "outputId": "b344b28e-4c5e-4078-f894-5da138063518"
      },
      "execution_count": 43,
      "outputs": [
        {
          "output_type": "stream",
          "name": "stdout",
          "text": [
            "{1001, 1002, 1003}\n",
            "Account number 1004 is not in use\n"
          ]
        }
      ]
    },
    {
      "cell_type": "code",
      "source": [
        "# dictionary\n",
        "accounts = {\n",
        "    \"1001\": {\"name\": \"Cash\", \"balance\": 500.0, \"type\": \"Asset\"},\n",
        "    \"1002\": {\"name\": \"Account Receivable\", \"balance\": 1000.0, \"type\": \"Asset\"},\n",
        "    \"1003\": {\"name\": \"Account Payable\", \"balance\": 750.0, \"type\": \"Liability\"}\n",
        "}\n",
        "\n",
        "for acc_num, acc_info in accounts.items():\n",
        "  print('-'*50)\n",
        "  print('Account Number: ', acc_num)\n",
        "\n",
        "  print('Account Name: ', acc_info['name'])\n",
        "  print('Account Balance: ', acc_info['balance'])\n",
        "  print('Account Type: ', acc_info['type'])"
      ],
      "metadata": {
        "colab": {
          "base_uri": "https://localhost:8080/"
        },
        "id": "dU81KBPe2ayq",
        "outputId": "953e6215-cfdb-4d23-bc14-9422bdc88b7e"
      },
      "execution_count": 46,
      "outputs": [
        {
          "output_type": "stream",
          "name": "stdout",
          "text": [
            "--------------------------------------------------\n",
            "Account Number:  1001\n",
            "Account Name:  Cash\n",
            "Account Balance:  500.0\n",
            "Account Type:  Asset\n",
            "--------------------------------------------------\n",
            "Account Number:  1002\n",
            "Account Name:  Account Receivable\n",
            "Account Balance:  1000.0\n",
            "Account Type:  Asset\n",
            "--------------------------------------------------\n",
            "Account Number:  1003\n",
            "Account Name:  Account Payable\n",
            "Account Balance:  750.0\n",
            "Account Type:  Liability\n"
          ]
        }
      ]
    },
    {
      "cell_type": "code",
      "source": [
        "# Python if\n",
        "score = 80\n",
        "if score >=60 :\n",
        "   print(\"Pass\")"
      ],
      "metadata": {
        "colab": {
          "base_uri": "https://localhost:8080/"
        },
        "id": "yUcpcHCt5L_u",
        "outputId": "fc4d213c-fa97-49a3-de81-ca069f2b87a9"
      },
      "execution_count": 48,
      "outputs": [
        {
          "output_type": "stream",
          "name": "stdout",
          "text": [
            "Pass\n"
          ]
        }
      ]
    },
    {
      "cell_type": "code",
      "source": [
        "# Python if else\n",
        "score = 80\n",
        "if score >=60 :\n",
        "  print(\"Pass\")\n",
        "else:\n",
        "  print(\"Fail\")"
      ],
      "metadata": {
        "colab": {
          "base_uri": "https://localhost:8080/"
        },
        "id": "4I4ViZj35UPm",
        "outputId": "3b335674-4b5f-413b-8e1a-b4bf48a59451"
      },
      "execution_count": 49,
      "outputs": [
        {
          "output_type": "stream",
          "name": "stdout",
          "text": [
            "Pass\n"
          ]
        }
      ]
    },
    {
      "cell_type": "code",
      "source": [
        "score = 95\n",
        "if score >= 90 :\n",
        "  print(\"A\")\n",
        "elif score >=60 :\n",
        "  print(\"Pass\")\n",
        "else:\n",
        "  print(\"Fail\")"
      ],
      "metadata": {
        "colab": {
          "base_uri": "https://localhost:8080/"
        },
        "id": "T-ZazHPV5a80",
        "outputId": "fa7a1135-dbdf-4c17-95be-659017317d1e"
      },
      "execution_count": 51,
      "outputs": [
        {
          "output_type": "stream",
          "name": "stdout",
          "text": [
            "A\n"
          ]
        }
      ]
    },
    {
      "cell_type": "code",
      "source": [
        "# Python if elif else\n",
        "score = 90\n",
        "grade = \"\"\n",
        "if score >=90:\n",
        "  grade = \"A\"\n",
        "elif score >= 80:\n",
        "  grade = \"B\"\n",
        "elif score >= 70:\n",
        "  grade = \"C\"\n",
        "elif score >= 60:\n",
        "  grade = \"D\"\n",
        "else:\n",
        "  grade = \"E\"\n",
        "print(grade)"
      ],
      "metadata": {
        "colab": {
          "base_uri": "https://localhost:8080/"
        },
        "id": "UUG6HjQh5lj4",
        "outputId": "24b1e400-257d-4912-8f10-cb5972ee5706"
      },
      "execution_count": 52,
      "outputs": [
        {
          "output_type": "stream",
          "name": "stdout",
          "text": [
            "A\n"
          ]
        }
      ]
    },
    {
      "cell_type": "code",
      "source": [
        "#loop\n",
        "for i in range(1,6):\n",
        "  print(i, end = ' ')"
      ],
      "metadata": {
        "colab": {
          "base_uri": "https://localhost:8080/"
        },
        "id": "dIpbyER-6Rkw",
        "outputId": "de664d1c-46ed-4865-9f0d-29c5393ae151"
      },
      "execution_count": 54,
      "outputs": [
        {
          "output_type": "stream",
          "name": "stdout",
          "text": [
            "1 2 3 4 5 "
          ]
        }
      ]
    },
    {
      "cell_type": "code",
      "source": [
        "# 2 loop\n",
        "for i in range(1,10):\n",
        "  for j in range(1,10):\n",
        "     print(f'{i} * {j} = {i*j}')\n",
        "  print('-'*50)"
      ],
      "metadata": {
        "colab": {
          "base_uri": "https://localhost:8080/"
        },
        "id": "BF_MZI1N6imW",
        "outputId": "dee9290a-60a8-431b-f0f5-d78c8792ac20"
      },
      "execution_count": 60,
      "outputs": [
        {
          "output_type": "stream",
          "name": "stdout",
          "text": [
            "1 * 1 = 1\n",
            "1 * 2 = 2\n",
            "1 * 3 = 3\n",
            "1 * 4 = 4\n",
            "1 * 5 = 5\n",
            "1 * 6 = 6\n",
            "1 * 7 = 7\n",
            "1 * 8 = 8\n",
            "1 * 9 = 9\n",
            "--------------------------------------------------\n",
            "2 * 1 = 2\n",
            "2 * 2 = 4\n",
            "2 * 3 = 6\n",
            "2 * 4 = 8\n",
            "2 * 5 = 10\n",
            "2 * 6 = 12\n",
            "2 * 7 = 14\n",
            "2 * 8 = 16\n",
            "2 * 9 = 18\n",
            "--------------------------------------------------\n",
            "3 * 1 = 3\n",
            "3 * 2 = 6\n",
            "3 * 3 = 9\n",
            "3 * 4 = 12\n",
            "3 * 5 = 15\n",
            "3 * 6 = 18\n",
            "3 * 7 = 21\n",
            "3 * 8 = 24\n",
            "3 * 9 = 27\n",
            "--------------------------------------------------\n",
            "4 * 1 = 4\n",
            "4 * 2 = 8\n",
            "4 * 3 = 12\n",
            "4 * 4 = 16\n",
            "4 * 5 = 20\n",
            "4 * 6 = 24\n",
            "4 * 7 = 28\n",
            "4 * 8 = 32\n",
            "4 * 9 = 36\n",
            "--------------------------------------------------\n",
            "5 * 1 = 5\n",
            "5 * 2 = 10\n",
            "5 * 3 = 15\n",
            "5 * 4 = 20\n",
            "5 * 5 = 25\n",
            "5 * 6 = 30\n",
            "5 * 7 = 35\n",
            "5 * 8 = 40\n",
            "5 * 9 = 45\n",
            "--------------------------------------------------\n",
            "6 * 1 = 6\n",
            "6 * 2 = 12\n",
            "6 * 3 = 18\n",
            "6 * 4 = 24\n",
            "6 * 5 = 30\n",
            "6 * 6 = 36\n",
            "6 * 7 = 42\n",
            "6 * 8 = 48\n",
            "6 * 9 = 54\n",
            "--------------------------------------------------\n",
            "7 * 1 = 7\n",
            "7 * 2 = 14\n",
            "7 * 3 = 21\n",
            "7 * 4 = 28\n",
            "7 * 5 = 35\n",
            "7 * 6 = 42\n",
            "7 * 7 = 49\n",
            "7 * 8 = 56\n",
            "7 * 9 = 63\n",
            "--------------------------------------------------\n",
            "8 * 1 = 8\n",
            "8 * 2 = 16\n",
            "8 * 3 = 24\n",
            "8 * 4 = 32\n",
            "8 * 5 = 40\n",
            "8 * 6 = 48\n",
            "8 * 7 = 56\n",
            "8 * 8 = 64\n",
            "8 * 9 = 72\n",
            "--------------------------------------------------\n",
            "9 * 1 = 9\n",
            "9 * 2 = 18\n",
            "9 * 3 = 27\n",
            "9 * 4 = 36\n",
            "9 * 5 = 45\n",
            "9 * 6 = 54\n",
            "9 * 7 = 63\n",
            "9 * 8 = 72\n",
            "9 * 9 = 81\n",
            "--------------------------------------------------\n"
          ]
        }
      ]
    },
    {
      "cell_type": "code",
      "source": [
        "# while loops\n",
        "age = 10\n",
        "while age < 20:\n",
        "  print(age)\n",
        "  age = age + 1"
      ],
      "metadata": {
        "colab": {
          "base_uri": "https://localhost:8080/"
        },
        "id": "vjSmH5p1C03y",
        "outputId": "1e1114f3-ebe1-4065-84bd-df0fdd89aafb"
      },
      "execution_count": 61,
      "outputs": [
        {
          "output_type": "stream",
          "name": "stdout",
          "text": [
            "10\n",
            "11\n",
            "12\n",
            "13\n",
            "14\n",
            "15\n",
            "16\n",
            "17\n",
            "18\n",
            "19\n"
          ]
        }
      ]
    },
    {
      "cell_type": "code",
      "source": [
        "# Python Function def\n",
        "# indentation for blocks. four spaces\n",
        "def getfv(pv, r, n):\n",
        "   fv = pv * ((1 + (r)) ** n)\n",
        "   return fv\n",
        "fv = getfv(100, 0.1, 7)\n",
        "print(round(fv, 2))"
      ],
      "metadata": {
        "colab": {
          "base_uri": "https://localhost:8080/"
        },
        "id": "wMrT78oZDDL-",
        "outputId": "240dfbd2-5cf7-4330-b276-69a1c5e5c15b"
      },
      "execution_count": 62,
      "outputs": [
        {
          "output_type": "stream",
          "name": "stdout",
          "text": [
            "194.87\n"
          ]
        }
      ]
    },
    {
      "cell_type": "code",
      "source": [
        "# Future Value\n",
        "pv = 100\n",
        "r = 0.1\n",
        "n = 7\n",
        "fv = pv * ((1 + (r)) ** n)\n",
        "print(round(fv, 2))\n"
      ],
      "metadata": {
        "colab": {
          "base_uri": "https://localhost:8080/"
        },
        "id": "ThZI0SZEDSwG",
        "outputId": "9bbf7b28-7040-4704-cfc2-13cf083bfc64"
      },
      "execution_count": 63,
      "outputs": [
        {
          "output_type": "stream",
          "name": "stdout",
          "text": [
            "194.87\n"
          ]
        }
      ]
    },
    {
      "cell_type": "code",
      "source": [
        "# Future Value\n",
        "amount = 100\n",
        "interest = 10 #10% = 0.01 * 10\n",
        "years = 7\n",
        "\n",
        "future_value = amount * ((1 + (0.01 * interest)) ** years)\n",
        "print(round(future_value, 2))"
      ],
      "metadata": {
        "colab": {
          "base_uri": "https://localhost:8080/"
        },
        "id": "rZN6gMW1DoLk",
        "outputId": "71ff45c3-4dfb-45f0-c1ff-b11ee7879e91"
      },
      "execution_count": 64,
      "outputs": [
        {
          "output_type": "stream",
          "name": "stdout",
          "text": [
            "194.87\n"
          ]
        }
      ]
    },
    {
      "cell_type": "code",
      "source": [
        "# Python Function def\n",
        "# indentation for blocks. four spaces\n",
        "def getfv(pv, r, n):\n",
        "    fv = pv * ((1 + (r)) ** n)\n",
        "    return fv\n",
        "fv = getfv(100, 0.1, 7)\n",
        "print(round(fv, 2))"
      ],
      "metadata": {
        "colab": {
          "base_uri": "https://localhost:8080/"
        },
        "id": "rIbSiDOJDr_-",
        "outputId": "369bf0fc-7410-432a-8c7a-e10a1af214db"
      },
      "execution_count": 66,
      "outputs": [
        {
          "output_type": "stream",
          "name": "stdout",
          "text": [
            "194.87\n"
          ]
        }
      ]
    },
    {
      "cell_type": "code",
      "source": [
        "# Python class\n",
        "class MyClass:\n",
        " x = 5\n",
        "\n",
        "c1 = MyClass()\n",
        "print(c1.x)"
      ],
      "metadata": {
        "colab": {
          "base_uri": "https://localhost:8080/"
        },
        "id": "R7QN39K3DzeY",
        "outputId": "12e1bfd2-1f49-4b54-d43e-2311e7a3e620"
      },
      "execution_count": 70,
      "outputs": [
        {
          "output_type": "stream",
          "name": "stdout",
          "text": [
            "5\n"
          ]
        }
      ]
    },
    {
      "cell_type": "code",
      "source": [
        "class Person:\n",
        "  def __init__(self, name, age):\n",
        "   self.name = name\n",
        "   self.age = age\n",
        "p1 = Person(\"Alan\", 20)\n",
        "\n",
        "print(p1.name)\n",
        "print(p1.age)"
      ],
      "metadata": {
        "colab": {
          "base_uri": "https://localhost:8080/"
        },
        "id": "Em9y6c18EADw",
        "outputId": "327136e0-3a40-4e0c-8554-23a5a5b6df0c"
      },
      "execution_count": 72,
      "outputs": [
        {
          "output_type": "stream",
          "name": "stdout",
          "text": [
            "Alan\n",
            "20\n"
          ]
        }
      ]
    },
    {
      "cell_type": "code",
      "source": [
        "class Person:\n",
        "  def __init__(self, name, age):\n",
        "    self.name = name\n",
        "    self.age = age\n",
        "  def myfunc(self):\n",
        "    print(\"Hello my name is \" + self.name)\n",
        "\n",
        "p1 = Person(\"Alan\", 20)\n",
        "p1.myfunc()"
      ],
      "metadata": {
        "colab": {
          "base_uri": "https://localhost:8080/"
        },
        "id": "IIVkjJEZEjhe",
        "outputId": "4f52d5ed-93fa-4d16-b5f0-085fffbf450d"
      },
      "execution_count": 74,
      "outputs": [
        {
          "output_type": "stream",
          "name": "stdout",
          "text": [
            "Hello my name is Alan\n"
          ]
        }
      ]
    },
    {
      "cell_type": "code",
      "source": [
        "class Person:\n",
        "  def __init__(self, name, age):\n",
        "   self.name = name\n",
        "   self.age = age\n",
        "  def myfunc(self):\n",
        "   print(\"Hello my name is \" + self.name)\n",
        "\n",
        "p1 = Person(\"Alan\", 20)\n",
        "p1.myfunc()\n",
        "print(p1.name)\n",
        "print(p1.age)"
      ],
      "metadata": {
        "colab": {
          "base_uri": "https://localhost:8080/"
        },
        "id": "3YbBo0MHFF5p",
        "outputId": "6848be08-91cb-495e-ddc3-ab628e4d2ef4"
      },
      "execution_count": 77,
      "outputs": [
        {
          "output_type": "stream",
          "name": "stdout",
          "text": [
            "Hello my name is Alan\n",
            "Alan\n",
            "20\n"
          ]
        }
      ]
    },
    {
      "cell_type": "code",
      "source": [
        "class Vehicle:\n",
        " name = \"\"\n",
        " kind = \"car\"\n",
        " color = \"\"\n",
        " value = 100.00\n",
        "\n",
        " def description(self):\n",
        "   desc_str = \"%s is a %s %s worth $%.2f.\" % (self.name, self.color, self.kind, self.value)\n",
        "   return desc_str\n",
        "   pass"
      ],
      "metadata": {
        "id": "z6txYaNNFVCe"
      },
      "execution_count": 78,
      "outputs": []
    },
    {
      "cell_type": "code",
      "source": [
        "car1 = Vehicle()\n",
        "car1.name = \"Fer\"\n",
        "car1.color = \"red\"\n",
        "car1.kind = \"convertible\"\n",
        "car1.value = 60000.00\n",
        "car2 = Vehicle()\n",
        "car2.name = \"Jump\"\n",
        "car2.color = \"blue\"\n",
        "car2.kind = \"van\"\n",
        "car2.value = 10000.00\n",
        "print(car1.description())\n",
        "print(car1.name)\n",
        "print(car2.description())\n",
        "print(car2.name)"
      ],
      "metadata": {
        "colab": {
          "base_uri": "https://localhost:8080/"
        },
        "id": "tltajUESFvbf",
        "outputId": "0aabdc42-855a-4a7a-b038-c990632fe008"
      },
      "execution_count": 79,
      "outputs": [
        {
          "output_type": "stream",
          "name": "stdout",
          "text": [
            "Fer is a red convertible worth $60000.00.\n",
            "Fer\n",
            "Jump is a blue van worth $10000.00.\n",
            "Jump\n"
          ]
        }
      ]
    },
    {
      "cell_type": "code",
      "source": [
        "# mymodule.py\n",
        "def greeting(name):\n",
        "   print(\"Hello, \" + name)"
      ],
      "metadata": {
        "id": "WQ3BaFv-Gx78"
      },
      "execution_count": 81,
      "outputs": []
    },
    {
      "cell_type": "code",
      "source": [],
      "metadata": {
        "colab": {
          "base_uri": "https://localhost:8080/",
          "height": 331
        },
        "id": "Ph56x6lKG7g9",
        "outputId": "b5d3aeca-fc66-42b5-f8c7-16670194c7c7"
      },
      "execution_count": 86,
      "outputs": [
        {
          "output_type": "error",
          "ename": "ModuleNotFoundError",
          "evalue": "No module named 'mymodule'",
          "traceback": [
            "\u001b[0;31m---------------------------------------------------------------------------\u001b[0m",
            "\u001b[0;31mModuleNotFoundError\u001b[0m                       Traceback (most recent call last)",
            "\u001b[0;32m/tmp/ipython-input-849105508.py\u001b[0m in \u001b[0;36m<cell line: 0>\u001b[0;34m()\u001b[0m\n\u001b[0;32m----> 1\u001b[0;31m \u001b[0;32mimport\u001b[0m \u001b[0mmymodule\u001b[0m\u001b[0;34m\u001b[0m\u001b[0;34m\u001b[0m\u001b[0m\n\u001b[0m\u001b[1;32m      2\u001b[0m \u001b[0mmymodule\u001b[0m\u001b[0;34m.\u001b[0m\u001b[0mgreeting\u001b[0m\u001b[0;34m(\u001b[0m\u001b[0;34m'Alan'\u001b[0m\u001b[0;34m)\u001b[0m\u001b[0;34m\u001b[0m\u001b[0;34m\u001b[0m\u001b[0m\n",
            "\u001b[0;31mModuleNotFoundError\u001b[0m: No module named 'mymodule'",
            "",
            "\u001b[0;31m---------------------------------------------------------------------------\u001b[0;32m\nNOTE: If your import is failing due to a missing package, you can\nmanually install dependencies using either !pip or !apt.\n\nTo view examples of installing some common dependencies, click the\n\"Open Examples\" button below.\n\u001b[0;31m---------------------------------------------------------------------------\u001b[0m\n"
          ],
          "errorDetails": {
            "actions": [
              {
                "action": "open_url",
                "actionText": "Open Examples",
                "url": "/notebooks/snippets/importing_libraries.ipynb"
              }
            ]
          }
        }
      ]
    }
  ]
}
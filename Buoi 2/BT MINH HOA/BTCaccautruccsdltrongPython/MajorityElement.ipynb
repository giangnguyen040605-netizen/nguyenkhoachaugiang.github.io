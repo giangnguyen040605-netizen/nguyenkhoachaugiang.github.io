{
 "cells": [
  {
   "cell_type": "code",
   "execution_count": 38,
   "id": "53e28ff3-e8e7-498e-b9b8-3c3e71df22e2",
   "metadata": {},
   "outputs": [
    {
     "name": "stdout",
     "output_type": "stream",
     "text": [
      "Overwriting MajorityElement.inp\n"
     ]
    }
   ],
   "source": [
    "%%writefile MajorityElement.inp\n",
    "7\n",
    "2 2 1 1 1 2 2"
   ]
  },
  {
   "cell_type": "code",
   "execution_count": 39,
   "id": "88185c9b-ac2d-43be-8fde-88281a065805",
   "metadata": {},
   "outputs": [
    {
     "name": "stdout",
     "output_type": "stream",
     "text": [
      "Test case 1 output: 2\n"
     ]
    }
   ],
   "source": [
    "%run MajorityElement.py\n",
    "with open(\"MajorityElement.out\", \"r\", encoding=\"utf-8\") as f:\n",
    "    print(\"Test case 1 output:\", f.read().strip())  # kỳ vọng 2"
   ]
  },
  {
   "cell_type": "code",
   "execution_count": 40,
   "id": "d249bd0a-7e37-4aec-b457-59f30bdbb37d",
   "metadata": {},
   "outputs": [
    {
     "name": "stdout",
     "output_type": "stream",
     "text": [
      "Overwriting MajorityElement.inp\n"
     ]
    }
   ],
   "source": [
    "%%writefile MajorityElement.inp\n",
    "3\n",
    "3 2 3"
   ]
  },
  {
   "cell_type": "code",
   "execution_count": 41,
   "id": "a7f216bc-be41-4364-81e1-71f326eb177a",
   "metadata": {},
   "outputs": [
    {
     "name": "stdout",
     "output_type": "stream",
     "text": [
      "Test case 2 output: 3\n"
     ]
    }
   ],
   "source": [
    "%run MajorityElement.py\n",
    "with open(\"MajorityElement.out\", \"r\", encoding=\"utf-8\") as f:\n",
    "    print(\"Test case 2 output:\", f.read().strip())  # kỳ vọng 3"
   ]
  },
  {
   "cell_type": "code",
   "execution_count": 36,
   "id": "db49f80c-22f2-4ca4-a0e0-31c5198d8498",
   "metadata": {},
   "outputs": [],
   "source": [
    "%run MajorityElement.py"
   ]
  },
  {
   "cell_type": "code",
   "execution_count": 37,
   "id": "584534c3-d2f0-406f-b350-736a177c47f5",
   "metadata": {},
   "outputs": [
    {
     "name": "stdout",
     "output_type": "stream",
     "text": [
      "2\n",
      "\n"
     ]
    }
   ],
   "source": [
    "with open(\"MajorityElement.out\", \"r\", encoding=\"utf-8\") as f:\n",
    "    print(f.read())"
   ]
  },
  {
   "cell_type": "code",
   "execution_count": null,
   "id": "96dbf70c-bb7a-4162-9d6a-fc0a15355c38",
   "metadata": {},
   "outputs": [],
   "source": []
  },
  {
   "cell_type": "code",
   "execution_count": null,
   "id": "dbe9da51-243a-45fb-bef3-95ce330f8bde",
   "metadata": {},
   "outputs": [],
   "source": []
  }
 ],
 "metadata": {
  "kernelspec": {
   "display_name": "Python [conda env:base] *",
   "language": "python",
   "name": "conda-base-py"
  },
  "language_info": {
   "codemirror_mode": {
    "name": "ipython",
    "version": 3
   },
   "file_extension": ".py",
   "mimetype": "text/x-python",
   "name": "python",
   "nbconvert_exporter": "python",
   "pygments_lexer": "ipython3",
   "version": "3.13.5"
  }
 },
 "nbformat": 4,
 "nbformat_minor": 5
}

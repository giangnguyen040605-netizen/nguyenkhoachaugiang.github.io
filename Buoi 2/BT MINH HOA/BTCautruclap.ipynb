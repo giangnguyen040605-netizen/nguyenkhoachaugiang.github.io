{
 "cells": [
  {
   "cell_type": "markdown",
   "id": "4ed4120c-6e2d-48b9-9df9-f28958abf5c1",
   "metadata": {},
   "source": [
    "# Cấu trúc lặp"
   ]
  },
  {
   "cell_type": "markdown",
   "id": "291035a2-e3e4-4e9a-9cd9-40523ea233ae",
   "metadata": {},
   "source": [
    "## Bài tập"
   ]
  },
  {
   "cell_type": "markdown",
   "id": "97f22b50-bf3b-4a65-9a76-d09d01a1aa6f",
   "metadata": {},
   "source": [
    "### Bài 1"
   ]
  },
  {
   "cell_type": "code",
   "execution_count": 3,
   "id": "ce71de2b-764d-444c-aaaf-96c0e3be0155",
   "metadata": {},
   "outputs": [
    {
     "name": "stdin",
     "output_type": "stream",
     "text": [
      "Nhập số nguyên dương n (>0):  16\n"
     ]
    },
    {
     "name": "stdout",
     "output_type": "stream",
     "text": [
      "16 không phải số đối xứng\n",
      "16 là số chính phương\n",
      "16 không phải số nguyên tố\n",
      "Chữ số lớn nhất: 6\n",
      "Chữ số nhỏ nhất: 1\n",
      "Các chữ số tăng dần\n"
     ]
    }
   ],
   "source": [
    "import math\n",
    "\n",
    "n = int(input(\"Nhập số nguyên dương n (>0): \"))\n",
    "\n",
    "# 1.1. Số đối xứng (palindrome)\n",
    "if str(n) == str(n)[::-1]:\n",
    "    print(n, \"là số đối xứng\")\n",
    "else:\n",
    "    print(n, \"không phải số đối xứng\")\n",
    "\n",
    "# 1.2. Số chính phương\n",
    "if int(math.sqrt(n))**2 == n:\n",
    "    print(n, \"là số chính phương\")\n",
    "else:\n",
    "    print(n, \"không phải số chính phương\")\n",
    "\n",
    "# 1.3. Số nguyên tố\n",
    "def is_prime(x):\n",
    "    if x < 2:\n",
    "        return False\n",
    "    for i in range(2, int(math.sqrt(x)) + 1):\n",
    "        if x % i == 0:\n",
    "            return False\n",
    "    return True\n",
    "\n",
    "if is_prime(n):\n",
    "    print(n, \"là số nguyên tố\")\n",
    "else:\n",
    "    print(n, \"không phải số nguyên tố\")\n",
    "\n",
    "# 1.4. Chữ số lớn nhất và nhỏ nhất\n",
    "digits = [int(d) for d in str(n)]\n",
    "print(\"Chữ số lớn nhất:\", max(digits))\n",
    "print(\"Chữ số nhỏ nhất:\", min(digits))\n",
    "\n",
    "# 1.5. Các chữ số tăng hay giảm\n",
    "if digits == sorted(digits):\n",
    "    print(\"Các chữ số tăng dần\")\n",
    "elif digits == sorted(digits, reverse=True):\n",
    "    print(\"Các chữ số giảm dần\")\n",
    "else:\n",
    "    print(\"Các chữ số không tăng/giảm hoàn toàn\")"
   ]
  },
  {
   "cell_type": "markdown",
   "id": "935ceb74-cbbf-49c9-aec1-6a3fd87c0387",
   "metadata": {},
   "source": [
    "### Bài 2"
   ]
  },
  {
   "cell_type": "code",
   "execution_count": 4,
   "id": "268a40f4-0a44-4675-8f9c-9fd9a7c93e0f",
   "metadata": {},
   "outputs": [
    {
     "name": "stdin",
     "output_type": "stream",
     "text": [
      "\n",
      "Nhập n để tính toán:  24\n"
     ]
    },
    {
     "name": "stdout",
     "output_type": "stream",
     "text": [
      "a) S = 300\n",
      "b) S = 4900\n",
      "c) S = 3.7759581777535067\n",
      "d) S = 620448401733239439360000\n",
      "e) S = 647478071469567844940313\n"
     ]
    }
   ],
   "source": [
    "n = int(input(\"\\nNhập n để tính toán: \"))\n",
    "\n",
    "# a. S = 1 + 2 + ... + n\n",
    "S1 = sum(range(1, n+1))\n",
    "print(\"a) S =\", S1)\n",
    "\n",
    "# b. S = 1^2 + 2^2 + ... + n^2\n",
    "S2 = sum(i**2 for i in range(1, n+1))\n",
    "print(\"b) S =\", S2)\n",
    "\n",
    "# c. S = 1 + 1/2 + ... + 1/n\n",
    "S3 = sum(1/i for i in range(1, n+1))\n",
    "print(\"c) S =\", S3)\n",
    "\n",
    "# d. S = 1*2*...*n\n",
    "S4 = 1\n",
    "for i in range(1, n+1):\n",
    "    S4 *= i\n",
    "print(\"d) S =\", S4)\n",
    "\n",
    "# e. S = 1! + 2! + ... + n!\n",
    "S5 = 0\n",
    "gt = 1\n",
    "for i in range(1, n+1):\n",
    "    gt *= i\n",
    "    S5 += gt\n",
    "print(\"e) S =\", S5)"
   ]
  },
  {
   "cell_type": "markdown",
   "id": "b11faa25-123b-4ab3-965d-a5395ec85bfb",
   "metadata": {},
   "source": [
    "### Bài 3"
   ]
  },
  {
   "cell_type": "code",
   "execution_count": 6,
   "id": "9c3b05f0-7113-4c8a-b7da-cba1654f2c69",
   "metadata": {},
   "outputs": [
    {
     "name": "stdin",
     "output_type": "stream",
     "text": [
      "\n",
      "Nhập a, b, n (a, b<n):  3 5 8\n"
     ]
    },
    {
     "name": "stdout",
     "output_type": "stream",
     "text": [
      "Tổng các số nhỏ hơn 8 chia hết cho 3 nhưng không chia hết cho 5 = 9\n"
     ]
    }
   ],
   "source": [
    "a, b, n = map(int, input(\"\\nNhập a, b, n (a, b<n): \").split())\n",
    "S = 0\n",
    "for i in range(1, n):\n",
    "    if i % a == 0 and i % b != 0:\n",
    "        S += i\n",
    "print(\"Tổng các số nhỏ hơn\", n, \"chia hết cho\", a, \"nhưng không chia hết cho\", b, \"=\", S)"
   ]
  },
  {
   "cell_type": "markdown",
   "id": "20a9cedf-8667-42af-9bfa-e2b68e5afb99",
   "metadata": {},
   "source": [
    "### Bài 4"
   ]
  },
  {
   "cell_type": "code",
   "execution_count": 7,
   "id": "ad1b9dd8-70ec-460c-8a5b-e75fffc9046c",
   "metadata": {},
   "outputs": [
    {
     "name": "stdin",
     "output_type": "stream",
     "text": [
      "\n",
      "Nhập n (0<n<50):  40\n"
     ]
    },
    {
     "name": "stdout",
     "output_type": "stream",
     "text": [
      "Tổng các số nguyên tố nhỏ hơn 40 = 197\n"
     ]
    }
   ],
   "source": [
    "n = int(input(\"\\nNhập n (0<n<50): \"))\n",
    "S = sum(i for i in range(2, n) if is_prime(i))\n",
    "print(\"Tổng các số nguyên tố nhỏ hơn\", n, \"=\", S)"
   ]
  },
  {
   "cell_type": "markdown",
   "id": "43f1cf0c-b060-4463-8b8f-73d7f9d62a01",
   "metadata": {},
   "source": [
    "### Bài 5"
   ]
  },
  {
   "cell_type": "code",
   "execution_count": 8,
   "id": "47773521-491d-4477-b132-6702ddda208f",
   "metadata": {},
   "outputs": [
    {
     "name": "stdin",
     "output_type": "stream",
     "text": [
      "Nhập số nguyên dương n:  45\n"
     ]
    },
    {
     "name": "stdout",
     "output_type": "stream",
     "text": [
      "Số đảo ngược là: 54\n"
     ]
    }
   ],
   "source": [
    "import math\n",
    "\n",
    "n = int(input(\"Nhập số nguyên dương n: \"))\n",
    "rev = int(str(n)[::-1])\n",
    "print(\"Số đảo ngược là:\", rev)"
   ]
  },
  {
   "cell_type": "markdown",
   "id": "d7ae3339-c86a-499a-8404-a763bf1e03cb",
   "metadata": {},
   "source": [
    "### Bài 6"
   ]
  },
  {
   "cell_type": "code",
   "execution_count": 9,
   "id": "bd4840ec-996b-4e23-aab0-249bcc6900c1",
   "metadata": {},
   "outputs": [
    {
     "name": "stdout",
     "output_type": "stream",
     "text": [
      "\n",
      "Các số thỏa điều kiện (tích = 2*lần tổng):\n",
      "36 44 63 "
     ]
    }
   ],
   "source": [
    "print(\"\\nCác số thỏa điều kiện (tích = 2*lần tổng):\")\n",
    "for num in range(10, 100):\n",
    "    a = num // 10  # chữ số hàng chục\n",
    "    b = num % 10   # chữ số hàng đơn vị\n",
    "    if a * b == 2 * (a + b):\n",
    "        print(num, end=\" \")"
   ]
  },
  {
   "cell_type": "markdown",
   "id": "d9bb8b2a-89b0-4510-9cbb-0d545197c35b",
   "metadata": {},
   "source": [
    "### Bài 7"
   ]
  },
  {
   "cell_type": "code",
   "execution_count": 10,
   "id": "8b2184c5-1a3b-4f49-aaa2-acb64d6b5e71",
   "metadata": {},
   "outputs": [
    {
     "name": "stdin",
     "output_type": "stream",
     "text": [
      "\n",
      "\n",
      "Nhập 2 số nguyên dương a, b:  4 7\n"
     ]
    },
    {
     "name": "stdout",
     "output_type": "stream",
     "text": [
      "Ước số chung lớn nhất của 4 và 7 là: 1\n"
     ]
    }
   ],
   "source": [
    "a, b = map(int, input(\"\\n\\nNhập 2 số nguyên dương a, b: \").split())\n",
    "def gcd(x, y):\n",
    "    while y != 0:\n",
    "        x, y = y, x % y\n",
    "    return x\n",
    "\n",
    "print(\"Ước số chung lớn nhất của\", a, \"và\", b, \"là:\", gcd(a, b))"
   ]
  },
  {
   "cell_type": "markdown",
   "id": "a8f40c58-66e8-4e79-8681-9e5bc6f4f51c",
   "metadata": {},
   "source": [
    "### Bài 8"
   ]
  },
  {
   "cell_type": "code",
   "execution_count": 11,
   "id": "2763b2bc-97ef-4d14-92cc-a64de8b04f19",
   "metadata": {},
   "outputs": [
    {
     "name": "stdin",
     "output_type": "stream",
     "text": [
      "\n",
      "Nhập n để in dãy Fibonacci:  26\n"
     ]
    },
    {
     "name": "stdout",
     "output_type": "stream",
     "text": [
      "Dãy Fibonacci: [1, 1, 2, 3, 5, 8, 13, 21, 34, 55, 89, 144, 233, 377, 610, 987, 1597, 2584, 4181, 6765, 10946, 17711, 28657, 46368, 75025, 121393]\n"
     ]
    }
   ],
   "source": [
    "n = int(input(\"\\nNhập n để in dãy Fibonacci: \"))\n",
    "fibo = [1, 1]  # a0=1, a1=1\n",
    "for i in range(2, n):\n",
    "    fibo.append(fibo[-1] + fibo[-2])\n",
    "print(\"Dãy Fibonacci:\", fibo[:n])"
   ]
  },
  {
   "cell_type": "code",
   "execution_count": null,
   "id": "0d94adec-65c3-49ef-a10d-850c7a0cbab6",
   "metadata": {},
   "outputs": [],
   "source": []
  }
 ],
 "metadata": {
  "kernelspec": {
   "display_name": "Python [conda env:base] *",
   "language": "python",
   "name": "conda-base-py"
  },
  "language_info": {
   "codemirror_mode": {
    "name": "ipython",
    "version": 3
   },
   "file_extension": ".py",
   "mimetype": "text/x-python",
   "name": "python",
   "nbconvert_exporter": "python",
   "pygments_lexer": "ipython3",
   "version": "3.13.5"
  }
 },
 "nbformat": 4,
 "nbformat_minor": 5
}

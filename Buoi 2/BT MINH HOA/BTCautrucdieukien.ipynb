{
 "cells": [
  {
   "cell_type": "markdown",
   "id": "57829d92-9028-47b2-a8cc-ae9f6c83f1ec",
   "metadata": {},
   "source": [
    "# Cấu trúc điều kiện"
   ]
  },
  {
   "cell_type": "markdown",
   "id": "aa962d00-bfc8-4428-8256-a1d75b5ae546",
   "metadata": {},
   "source": [
    "## Bài tập"
   ]
  },
  {
   "cell_type": "markdown",
   "id": "0c4cf675-5f74-482d-971c-333661fd54b3",
   "metadata": {},
   "source": [
    "### Bài 1"
   ]
  },
  {
   "cell_type": "code",
   "execution_count": 2,
   "id": "a31b3f5e-2f81-48c6-a488-0ce26702a5d9",
   "metadata": {},
   "outputs": [
    {
     "name": "stdin",
     "output_type": "stream",
     "text": [
      "Nhập một số:  3\n"
     ]
    },
    {
     "name": "stdout",
     "output_type": "stream",
     "text": [
      "Số bạn nhập là: ba\n"
     ]
    }
   ],
   "source": [
    "num = int(input(\"Nhập một số: \"))\n",
    "if 1 <= num <= 9:\n",
    "    words = [\"một\", \"hai\", \"ba\", \"bốn\", \"năm\", \"sáu\", \"bảy\", \"tám\", \"chín\"]\n",
    "    print(\"Số bạn nhập là:\", words[num-1])\n",
    "else:\n",
    "    print(\"Không đọc được số này!\")"
   ]
  },
  {
   "cell_type": "markdown",
   "id": "27e16343-74fa-46cf-818b-7a4177f4bb38",
   "metadata": {},
   "source": [
    "### Bài 2"
   ]
  },
  {
   "cell_type": "code",
   "execution_count": 3,
   "id": "57fdf50d-31f4-4adb-8dc7-bd10896e7224",
   "metadata": {},
   "outputs": [
    {
     "name": "stdin",
     "output_type": "stream",
     "text": [
      "Nhập một chữ cái:  c\n"
     ]
    },
    {
     "name": "stdout",
     "output_type": "stream",
     "text": [
      "Chữ hoa: C\n"
     ]
    }
   ],
   "source": [
    "char = input(\"Nhập một chữ cái: \")\n",
    "if char.islower():\n",
    "    print(\"Chữ hoa:\", char.upper())\n",
    "elif char.isupper():\n",
    "    print(\"Chữ thường:\", char.lower())\n",
    "else:\n",
    "    print(\"Không phải chữ cái!\")"
   ]
  },
  {
   "cell_type": "markdown",
   "id": "c60168d3-4465-41bd-af5c-0977196a3f7d",
   "metadata": {},
   "source": [
    "### Bài 3"
   ]
  },
  {
   "cell_type": "code",
   "execution_count": 4,
   "id": "cc329b22-10ee-4760-841f-7e3ab100fb28",
   "metadata": {},
   "outputs": [
    {
     "name": "stdin",
     "output_type": "stream",
     "text": [
      "Nhập a:  2\n",
      "Nhập b:  4\n"
     ]
    },
    {
     "name": "stdout",
     "output_type": "stream",
     "text": [
      "Nghiệm của phương trình là: -2.0\n"
     ]
    }
   ],
   "source": [
    "a = float(input(\"Nhập a: \"))\n",
    "b = float(input(\"Nhập b: \"))\n",
    "if a == 0:\n",
    "    if b == 0:\n",
    "        print(\"Phương trình vô số nghiệm\")\n",
    "    else:\n",
    "        print(\"Phương trình vô nghiệm\")\n",
    "else:\n",
    "    x = -b / a\n",
    "    print(\"Nghiệm của phương trình là:\", x)"
   ]
  },
  {
   "cell_type": "markdown",
   "id": "1c0c1747-9805-426e-aeb3-f899c1ca5208",
   "metadata": {},
   "source": [
    "### Bài 4"
   ]
  },
  {
   "cell_type": "code",
   "execution_count": 5,
   "id": "8da1e5a8-cff3-4032-adda-f7ba0ca0237b",
   "metadata": {},
   "outputs": [
    {
     "name": "stdin",
     "output_type": "stream",
     "text": [
      "Nhập a:  4\n",
      "Nhập b:  6\n",
      "Nhập c:  3\n"
     ]
    },
    {
     "name": "stdout",
     "output_type": "stream",
     "text": [
      "Phương trình vô nghiệm\n"
     ]
    }
   ],
   "source": [
    "import math\n",
    "a = float(input(\"Nhập a: \"))\n",
    "b = float(input(\"Nhập b: \"))\n",
    "c = float(input(\"Nhập c: \"))\n",
    "\n",
    "if a == 0:\n",
    "    if b == 0:\n",
    "        print(\"Phương trình vô nghiệm\" if c != 0 else \"Phương trình vô số nghiệm\")\n",
    "    else:\n",
    "        print(\"Nghiệm:\", -c/b)\n",
    "else:\n",
    "    delta = b**2 - 4*a*c\n",
    "    if delta < 0:\n",
    "        print(\"Phương trình vô nghiệm\")\n",
    "    elif delta == 0:\n",
    "        print(\"Nghiệm kép:\", -b/(2*a))\n",
    "    else:\n",
    "        x1 = (-b + math.sqrt(delta)) / (2*a)\n",
    "        x2 = (-b - math.sqrt(delta)) / (2*a)\n",
    "        print(\"Hai nghiệm:\", x1, x2)"
   ]
  },
  {
   "cell_type": "markdown",
   "id": "fe3414e4-743b-4aa9-9368-e82fe36b00bd",
   "metadata": {},
   "source": [
    "### Bài 5"
   ]
  },
  {
   "cell_type": "code",
   "execution_count": 7,
   "id": "926f5244-f09f-4698-9e0c-694148367474",
   "metadata": {},
   "outputs": [
    {
     "name": "stdin",
     "output_type": "stream",
     "text": [
      "Nhập 4 số cách nhau bởi dấu cách:  3 5 6 8 \n"
     ]
    },
    {
     "name": "stdout",
     "output_type": "stream",
     "text": [
      "Số nhỏ nhất là: 3\n"
     ]
    }
   ],
   "source": [
    "a, b, c, d = map(int, input(\"Nhập 4 số cách nhau bởi dấu cách: \").split())\n",
    "print(\"Số nhỏ nhất là:\", min(a, b, c, d))"
   ]
  },
  {
   "cell_type": "markdown",
   "id": "25136c72-d140-4617-882d-9de084b22f01",
   "metadata": {},
   "source": [
    "### Bài 6"
   ]
  },
  {
   "cell_type": "code",
   "execution_count": 8,
   "id": "1bd24148-43c7-4a8a-8e19-254b4cfe477e",
   "metadata": {},
   "outputs": [
    {
     "name": "stdin",
     "output_type": "stream",
     "text": [
      "Nhập 4 số cách nhau bởi dấu cách:  4 7 8 3\n"
     ]
    },
    {
     "name": "stdout",
     "output_type": "stream",
     "text": [
      "Thứ tự tăng dần: [3, 4, 7, 8]\n"
     ]
    }
   ],
   "source": [
    "nums = list(map(int, input(\"Nhập 4 số cách nhau bởi dấu cách: \").split()))\n",
    "nums.sort()\n",
    "print(\"Thứ tự tăng dần:\", nums)"
   ]
  },
  {
   "cell_type": "markdown",
   "id": "ff53e404-3eec-48c9-9d45-cddc68bc82f5",
   "metadata": {},
   "source": [
    "### Bài 7"
   ]
  },
  {
   "cell_type": "code",
   "execution_count": 9,
   "id": "1c1ad14f-266e-42ca-adec-37935d574e1a",
   "metadata": {},
   "outputs": [
    {
     "name": "stdin",
     "output_type": "stream",
     "text": [
      "Nhập số km:  30\n"
     ]
    },
    {
     "name": "stdout",
     "output_type": "stream",
     "text": [
      "Tiền taxi phải trả: 344000 VND\n"
     ]
    }
   ],
   "source": [
    "km = int(input(\"Nhập số km: \"))\n",
    "if km <= 0:\n",
    "    print(\"Số km không hợp lệ\")\n",
    "else:\n",
    "    if km == 1:\n",
    "        cost = 15000\n",
    "    elif km <= 5:\n",
    "        cost = 15000 + (km-1)*13500\n",
    "    else:\n",
    "        cost = 15000 + 4*13500 + (km-5)*11000\n",
    "    if km > 120:\n",
    "        cost *= 0.9  # giảm 10%\n",
    "    print(\"Tiền taxi phải trả:\", int(cost), \"VND\")"
   ]
  },
  {
   "cell_type": "markdown",
   "id": "1650f5c0-23c4-4bb7-90f7-cb19d41fba77",
   "metadata": {},
   "source": [
    "### Bài 8"
   ]
  },
  {
   "cell_type": "code",
   "execution_count": 10,
   "id": "7cbc0d82-f680-4892-902f-4b31db8b1e91",
   "metadata": {},
   "outputs": [
    {
     "name": "stdin",
     "output_type": "stream",
     "text": [
      "Nhập tháng và năm:  9 2025\n"
     ]
    },
    {
     "name": "stdout",
     "output_type": "stream",
     "text": [
      "Tháng 9 có 30 ngày\n"
     ]
    }
   ],
   "source": [
    "month, year = map(int, input(\"Nhập tháng và năm: \").split())\n",
    "if month in [1, 3, 5, 7, 8, 10, 12]:\n",
    "    print(\"Tháng\", month, \"có 31 ngày\")\n",
    "elif month in [4, 6, 9, 11]:\n",
    "    print(\"Tháng\", month, \"có 30 ngày\")\n",
    "elif month == 2:\n",
    "    if (year % 400 == 0) or (year % 4 == 0 and year % 100 != 0):\n",
    "        print(\"Tháng 2 có 29 ngày\")\n",
    "    else:\n",
    "        print(\"Tháng 2 có 28 ngày\")\n",
    "else:\n",
    "    print(\"Tháng không hợp lệ\")"
   ]
  },
  {
   "cell_type": "markdown",
   "id": "b7b4fa7e-543f-4f57-beb2-ebf1edaca96e",
   "metadata": {},
   "source": [
    "### Bài 9"
   ]
  },
  {
   "cell_type": "code",
   "execution_count": 11,
   "id": "821ac025-e395-480d-8648-f99897415edf",
   "metadata": {},
   "outputs": [
    {
     "name": "stdin",
     "output_type": "stream",
     "text": [
      "Nhập 3 cạnh tam giác:  4 7 9\n"
     ]
    },
    {
     "name": "stdout",
     "output_type": "stream",
     "text": [
      "Tam giác thường\n"
     ]
    }
   ],
   "source": [
    "a, b, c = map(float, input(\"Nhập 3 cạnh tam giác: \").split())\n",
    "if a+b>c and a+c>b and b+c>a:\n",
    "    if a==b==c:\n",
    "        print(\"Tam giác đều\")\n",
    "    elif a==b or b==c or a==c:\n",
    "        print(\"Tam giác cân\")\n",
    "    elif a*a+b*b==c*c or a*a+c*c==b*b or b*b+c*c==a*a:\n",
    "        print(\"Tam giác vuông\")\n",
    "    else:\n",
    "        print(\"Tam giác thường\")\n",
    "else:\n",
    "    print(\"Không phải tam giác\")"
   ]
  },
  {
   "cell_type": "code",
   "execution_count": null,
   "id": "5feffe02-b0f1-486a-90a5-9d6824ccfd77",
   "metadata": {},
   "outputs": [],
   "source": []
  }
 ],
 "metadata": {
  "kernelspec": {
   "display_name": "Python [conda env:base] *",
   "language": "python",
   "name": "conda-base-py"
  },
  "language_info": {
   "codemirror_mode": {
    "name": "ipython",
    "version": 3
   },
   "file_extension": ".py",
   "mimetype": "text/x-python",
   "name": "python",
   "nbconvert_exporter": "python",
   "pygments_lexer": "ipython3",
   "version": "3.13.5"
  }
 },
 "nbformat": 4,
 "nbformat_minor": 5
}

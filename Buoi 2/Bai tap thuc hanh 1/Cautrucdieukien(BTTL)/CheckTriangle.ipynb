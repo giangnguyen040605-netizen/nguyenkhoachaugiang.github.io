{
 "cells": [
  {
   "cell_type": "code",
   "execution_count": 10,
   "id": "371abe5e-4b85-435f-88e2-1aa92dfb8fe9",
   "metadata": {},
   "outputs": [
    {
     "name": "stdout",
     "output_type": "stream",
     "text": [
      "Overwriting CheckTriangle.in0\n"
     ]
    }
   ],
   "source": [
    "%%writefile CheckTriangle.in0\n",
    "5\n",
    "3\n",
    "4"
   ]
  },
  {
   "cell_type": "code",
   "execution_count": 11,
   "id": "0d01fdd6-cdb8-4adc-a18b-e39c2bab6644",
   "metadata": {},
   "outputs": [
    {
     "name": "stderr",
     "output_type": "stream",
     "text": [
      "  File \u001b[35m\"C:\\Users\\Admin\\CheckTriangle.py\"\u001b[0m, line \u001b[35m17\u001b[0m\n",
      "    print(f \u001b[1;31m\"Voi ba canh ({a}, {b}, {c}) \\u2192 {result}\"\u001b[0m)\n",
      "            \u001b[1;31m^^^^^^^^^^^^^^^^^^^^^^^^^^^^^^^^^^^^^^^^\u001b[0m\n",
      "\u001b[1;35mSyntaxError\u001b[0m: \u001b[35minvalid syntax\u001b[0m\n"
     ]
    }
   ],
   "source": [
    "!python CheckTriangle.py < CheckTriangle.in0"
   ]
  },
  {
   "cell_type": "code",
   "execution_count": null,
   "id": "fb0c3214-e363-46af-bbcc-bbbf7b6b8d52",
   "metadata": {},
   "outputs": [],
   "source": []
  }
 ],
 "metadata": {
  "kernelspec": {
   "display_name": "Python [conda env:anaconda3] *",
   "language": "python",
   "name": "conda-env-anaconda3-py"
  },
  "language_info": {
   "codemirror_mode": {
    "name": "ipython",
    "version": 3
   },
   "file_extension": ".py",
   "mimetype": "text/x-python",
   "name": "python",
   "nbconvert_exporter": "python",
   "pygments_lexer": "ipython3",
   "version": "3.13.5"
  }
 },
 "nbformat": 4,
 "nbformat_minor": 5
}

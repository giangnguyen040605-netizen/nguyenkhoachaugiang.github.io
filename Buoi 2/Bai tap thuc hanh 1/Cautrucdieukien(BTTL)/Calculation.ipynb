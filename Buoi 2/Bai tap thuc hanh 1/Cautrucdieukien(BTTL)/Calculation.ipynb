{
 "cells": [
  {
   "cell_type": "code",
   "execution_count": 1,
   "id": "5dbd34c3-7022-4bc5-bb67-9d8053e94041",
   "metadata": {},
   "outputs": [
    {
     "name": "stdout",
     "output_type": "stream",
     "text": [
      "Writing Calculation.in0\n"
     ]
    }
   ],
   "source": [
    "%%writefile Calculation.in0\n",
    "8\n",
    "3\n",
    "+"
   ]
  },
  {
   "cell_type": "code",
   "execution_count": 4,
   "id": "774264e9-236f-46ec-a171-9cbdb16b4c21",
   "metadata": {},
   "outputs": [
    {
     "name": "stdout",
     "output_type": "stream",
     "text": [
      "8.0 + 3.0 = 11.0\n"
     ]
    }
   ],
   "source": [
    "!python Calculation.py < Calculation.in0"
   ]
  },
  {
   "cell_type": "code",
   "execution_count": null,
   "id": "a3ac0848-3a0b-4d53-ad95-909ea5c11ed4",
   "metadata": {},
   "outputs": [],
   "source": []
  }
 ],
 "metadata": {
  "kernelspec": {
   "display_name": "Python [conda env:anaconda3] *",
   "language": "python",
   "name": "conda-env-anaconda3-py"
  },
  "language_info": {
   "codemirror_mode": {
    "name": "ipython",
    "version": 3
   },
   "file_extension": ".py",
   "mimetype": "text/x-python",
   "name": "python",
   "nbconvert_exporter": "python",
   "pygments_lexer": "ipython3",
   "version": "3.13.5"
  }
 },
 "nbformat": 4,
 "nbformat_minor": 5
}

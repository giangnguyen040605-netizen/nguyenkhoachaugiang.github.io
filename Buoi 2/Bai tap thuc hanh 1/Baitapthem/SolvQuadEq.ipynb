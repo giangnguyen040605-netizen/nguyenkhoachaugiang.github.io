{
 "cells": [
  {
   "cell_type": "code",
   "execution_count": 28,
   "id": "22739cce-eb45-4ec6-a60c-54f0cb115892",
   "metadata": {},
   "outputs": [
    {
     "name": "stdout",
     "output_type": "stream",
     "text": [
      "Overwriting SolvQuadEq.in0\n"
     ]
    }
   ],
   "source": [
    "%%writefile SolvQuadEq.in0\n",
    "0 0 0 "
   ]
  },
  {
   "cell_type": "code",
   "execution_count": 29,
   "id": "fb471e10-7943-4e9e-a995-b41f72e9c2c5",
   "metadata": {},
   "outputs": [
    {
     "name": "stdout",
     "output_type": "stream",
     "text": [
      "Overwriting SolvQuadEq.in1\n"
     ]
    }
   ],
   "source": [
    "%%writefile SolvQuadEq.in1\n",
    "1 -5 6"
   ]
  },
  {
   "cell_type": "code",
   "execution_count": 30,
   "id": "fb9e738f-79a3-448b-9fbe-3543407ec6e7",
   "metadata": {},
   "outputs": [
    {
     "name": "stdout",
     "output_type": "stream",
     "text": [
      "Overwriting SolvQuadEq.in2\n"
     ]
    }
   ],
   "source": [
    "%%writefile SolvQuadEq.in2\n",
    "1 -2 1"
   ]
  },
  {
   "cell_type": "code",
   "execution_count": 36,
   "id": "5daf8814-e564-4ef4-89de-b24bb3998696",
   "metadata": {},
   "outputs": [
    {
     "name": "stdout",
     "output_type": "stream",
     "text": [
      "Overwriting SolvQuadEq.in3\n"
     ]
    }
   ],
   "source": [
    "%%writefile SolvQuadEq.in3\n",
    "1 9 1"
   ]
  },
  {
   "cell_type": "code",
   "execution_count": 32,
   "id": "aa09696a-0289-49ea-b586-3d827c9654ba",
   "metadata": {},
   "outputs": [
    {
     "name": "stdout",
     "output_type": "stream",
     "text": [
      "Unlimited solutions\n"
     ]
    }
   ],
   "source": [
    "!python SolvQuadEq.py < SolvQuadEq.in0"
   ]
  },
  {
   "cell_type": "code",
   "execution_count": 33,
   "id": "f9756127-ea82-4d87-9701-a1966bc9d77e",
   "metadata": {},
   "outputs": [
    {
     "name": "stdout",
     "output_type": "stream",
     "text": [
      "x1=2.00, x2=3.00\n"
     ]
    }
   ],
   "source": [
    "!python SolvQuadEq.py < SolvQuadEq.in1"
   ]
  },
  {
   "cell_type": "code",
   "execution_count": 34,
   "id": "b436443f-5a43-4a59-83a8-6923643f5a91",
   "metadata": {},
   "outputs": [
    {
     "name": "stdout",
     "output_type": "stream",
     "text": [
      "x1=1.00\n"
     ]
    }
   ],
   "source": [
    "!python SolvQuadEq.py < SolvQuadEq.in2"
   ]
  },
  {
   "cell_type": "code",
   "execution_count": 37,
   "id": "85581f25-272e-428c-9af5-e007acbfb64f",
   "metadata": {},
   "outputs": [
    {
     "name": "stdout",
     "output_type": "stream",
     "text": [
      "x1=-8.89, x2=-0.11\n"
     ]
    }
   ],
   "source": [
    "!python SolvQuadEq.py < SolvQuadEq.in3"
   ]
  },
  {
   "cell_type": "code",
   "execution_count": null,
   "id": "5e5051a7-8ab9-4849-8ba2-44d818c59bdc",
   "metadata": {},
   "outputs": [],
   "source": []
  }
 ],
 "metadata": {
  "kernelspec": {
   "display_name": "Python [conda env:anaconda3] *",
   "language": "python",
   "name": "conda-env-anaconda3-py"
  },
  "language_info": {
   "codemirror_mode": {
    "name": "ipython",
    "version": 3
   },
   "file_extension": ".py",
   "mimetype": "text/x-python",
   "name": "python",
   "nbconvert_exporter": "python",
   "pygments_lexer": "ipython3",
   "version": "3.13.5"
  }
 },
 "nbformat": 4,
 "nbformat_minor": 5
}

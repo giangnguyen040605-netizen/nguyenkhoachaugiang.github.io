{
 "cells": [
  {
   "cell_type": "code",
   "execution_count": 31,
   "id": "4356a5a9-30fe-42b5-b723-a6fc44a6edc6",
   "metadata": {},
   "outputs": [
    {
     "name": "stdout",
     "output_type": "stream",
     "text": [
      "Overwriting WaterPayment.in0\n"
     ]
    }
   ],
   "source": [
    "%%writefile WaterPayment.in0\n",
    "1\n",
    "3"
   ]
  },
  {
   "cell_type": "code",
   "execution_count": 33,
   "id": "ed9151d9-1979-4d91-b1db-bcfedd333cfb",
   "metadata": {},
   "outputs": [
    {
     "name": "stderr",
     "output_type": "stream",
     "text": [
      "Traceback (most recent call last):\n",
      "  File \u001b[35m\"C:\\Users\\Admin\\WaterPayment.py\"\u001b[0m, line \u001b[35m16\u001b[0m, in \u001b[35m<module>\u001b[0m\n",
      "    \u001b[31mprint\u001b[0m\u001b[1;31m(f\"Payment for {used} m^3 in month is {cost:,} \\u0110.\")\u001b[0m\n",
      "    \u001b[31m~~~~~\u001b[0m\u001b[1;31m^^^^^^^^^^^^^^^^^^^^^^^^^^^^^^^^^^^^^^^^^^^^^^^^^^^\u001b[0m\n",
      "  File \u001b[35m\"C:\\ProgramData\\anaconda3\\Lib\\encodings\\cp1252.py\"\u001b[0m, line \u001b[35m19\u001b[0m, in \u001b[35mencode\u001b[0m\n",
      "    return \u001b[31mcodecs.charmap_encode\u001b[0m\u001b[1;31m(input,self.errors,encoding_table)\u001b[0m[0]\n",
      "           \u001b[31m~~~~~~~~~~~~~~~~~~~~~\u001b[0m\u001b[1;31m^^^^^^^^^^^^^^^^^^^^^^^^^^^^^^^^^^\u001b[0m\n",
      "\u001b[1;35mUnicodeEncodeError\u001b[0m: \u001b[35m'charmap' codec can't encode character '\\u0110' in position 36: character maps to <undefined>\u001b[0m\n"
     ]
    }
   ],
   "source": [
    "!python WaterPayment.py < WaterPayment.in0"
   ]
  },
  {
   "cell_type": "code",
   "execution_count": null,
   "id": "e1dac3a6-b56d-499b-a1eb-ae8c2b98d942",
   "metadata": {},
   "outputs": [],
   "source": []
  },
  {
   "cell_type": "code",
   "execution_count": null,
   "id": "2558ec03-b94c-4a94-b4ea-5b5bf305f6af",
   "metadata": {},
   "outputs": [],
   "source": []
  },
  {
   "cell_type": "code",
   "execution_count": null,
   "id": "671d6ff1-b34c-45ec-aca8-a4ac663506b7",
   "metadata": {},
   "outputs": [],
   "source": []
  },
  {
   "cell_type": "code",
   "execution_count": null,
   "id": "b05d1101-86d4-4411-b05a-ff9191cc65cc",
   "metadata": {},
   "outputs": [],
   "source": []
  },
  {
   "cell_type": "code",
   "execution_count": null,
   "id": "8dfaadf2-d5d1-44c7-bdee-141a5aa35563",
   "metadata": {},
   "outputs": [],
   "source": []
  },
  {
   "cell_type": "code",
   "execution_count": null,
   "id": "6e5ced13-e3ee-409d-85eb-6f88882a44e4",
   "metadata": {},
   "outputs": [],
   "source": []
  }
 ],
 "metadata": {
  "kernelspec": {
   "display_name": "Python [conda env:anaconda3] *",
   "language": "python",
   "name": "conda-env-anaconda3-py"
  },
  "language_info": {
   "codemirror_mode": {
    "name": "ipython",
    "version": 3
   },
   "file_extension": ".py",
   "mimetype": "text/x-python",
   "name": "python",
   "nbconvert_exporter": "python",
   "pygments_lexer": "ipython3",
   "version": "3.13.5"
  }
 },
 "nbformat": 4,
 "nbformat_minor": 5
}

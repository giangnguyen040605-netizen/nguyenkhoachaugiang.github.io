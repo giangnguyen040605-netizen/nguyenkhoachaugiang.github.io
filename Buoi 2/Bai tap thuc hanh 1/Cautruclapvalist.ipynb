{
 "cells": [
  {
   "cell_type": "markdown",
   "id": "3f480e88-a78f-4f4e-ad89-ef5530b13c0f",
   "metadata": {},
   "source": [
    "# Cấu trúc lặp và list"
   ]
  },
  {
   "cell_type": "markdown",
   "id": "a5b59e81-cd74-4713-a539-e73da525cfee",
   "metadata": {},
   "source": [
    "## Bài 1"
   ]
  },
  {
   "cell_type": "code",
   "execution_count": 1,
   "id": "246d7dff-2c7a-496a-824d-dabb593ad449",
   "metadata": {},
   "outputs": [
    {
     "name": "stdout",
     "output_type": "stream",
     "text": [
      "String compare: ['1', '123', '27', '3', '5', '9']\n",
      "Integer compare: ['1', '3', '5', '9', '27', '123']\n"
     ]
    }
   ],
   "source": [
    "A = ['3', '27', '5', '123', '9', '1']\n",
    "\n",
    "# string compare (theo thứ tự từ điển)\n",
    "string_sorted = sorted(A)\n",
    "\n",
    "# integer compare (theo giá trị số nguyên)\n",
    "integer_sorted = sorted(A, key=int)\n",
    "\n",
    "print(\"String compare:\", string_sorted)\n",
    "print(\"Integer compare:\", integer_sorted)"
   ]
  },
  {
   "cell_type": "markdown",
   "id": "9d9e9b00-7d87-49f2-acc4-d61e4aa626bd",
   "metadata": {},
   "source": [
    "## Bài 2"
   ]
  },
  {
   "cell_type": "code",
   "execution_count": 2,
   "id": "0e26f10d-034a-46e0-8bca-dd48a03a6b1d",
   "metadata": {},
   "outputs": [
    {
     "name": "stdout",
     "output_type": "stream",
     "text": [
      "Kết quả: [12, 88, 120]\n"
     ]
    }
   ],
   "source": [
    "A = [12, 24, 35, 70, 88, 120, 155]\n",
    "remove_index = [1, 2, 3, 6]   # vị trí cần xóa\n",
    "\n",
    "result = [val for i, val in enumerate(A) if i not in remove_index]\n",
    "\n",
    "print(\"Kết quả:\", result)"
   ]
  },
  {
   "cell_type": "markdown",
   "id": "492fc200-5764-4fc0-ae9d-10b7ffbd592d",
   "metadata": {},
   "source": [
    "## Bài 3"
   ]
  },
  {
   "cell_type": "code",
   "execution_count": 3,
   "id": "760840ba-13a1-41cc-95ad-1e326a7e70ae",
   "metadata": {},
   "outputs": [
    {
     "name": "stdout",
     "output_type": "stream",
     "text": [
      "Danh sách sau khi xóa trùng: [1, 2, 3, 5, 6, 7, 8]\n"
     ]
    }
   ],
   "source": [
    "A = [1, 2, 3, 1, 2, 5, 6, 7, 8]\n",
    "B = []\n",
    "\n",
    "for x in A:\n",
    "    if x not in B:   # chỉ thêm nếu chưa có trong B\n",
    "        B.append(x)\n",
    "\n",
    "print(\"Danh sách sau khi xóa trùng:\", B)"
   ]
  },
  {
   "cell_type": "markdown",
   "id": "8c7acf64-6528-42c1-9632-fcda3ec6db7c",
   "metadata": {},
   "source": [
    "## Bài 4"
   ]
  },
  {
   "cell_type": "code",
   "execution_count": 4,
   "id": "83369e6d-589d-4dda-9f50-c7c6dbb2a971",
   "metadata": {},
   "outputs": [
    {
     "name": "stdout",
     "output_type": "stream",
     "text": [
      "1: 4\n",
      "2: 4\n",
      "3: 2\n",
      "4: 1\n",
      "5: 2\n"
     ]
    }
   ],
   "source": [
    "A = [1,1,1,1,2,2,2,2,3,3,4,5,5]\n",
    "checked = []   # để lưu phần tử đã đếm\n",
    "\n",
    "for x in A:\n",
    "    if x not in checked:\n",
    "        count = 0\n",
    "        for y in A:\n",
    "            if y == x:\n",
    "                count += 1\n",
    "        print(f\"{x}: {count}\")\n",
    "        checked.append(x)"
   ]
  },
  {
   "cell_type": "code",
   "execution_count": null,
   "id": "b2d010c7-a2ce-44ce-9156-70e06f14db38",
   "metadata": {},
   "outputs": [],
   "source": []
  }
 ],
 "metadata": {
  "kernelspec": {
   "display_name": "Python [conda env:base] *",
   "language": "python",
   "name": "conda-base-py"
  },
  "language_info": {
   "codemirror_mode": {
    "name": "ipython",
    "version": 3
   },
   "file_extension": ".py",
   "mimetype": "text/x-python",
   "name": "python",
   "nbconvert_exporter": "python",
   "pygments_lexer": "ipython3",
   "version": "3.13.5"
  }
 },
 "nbformat": 4,
 "nbformat_minor": 5
}

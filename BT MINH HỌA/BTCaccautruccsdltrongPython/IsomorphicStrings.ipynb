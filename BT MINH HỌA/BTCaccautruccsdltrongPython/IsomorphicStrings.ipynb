{
 "cells": [
  {
   "cell_type": "code",
   "execution_count": 1,
   "id": "49bd5fe3-efa4-4c5b-8335-304b3cd1ab00",
   "metadata": {},
   "outputs": [
    {
     "name": "stdout",
     "output_type": "stream",
     "text": [
      "Writing IsomorphicStrings.inp\n"
     ]
    }
   ],
   "source": [
    "%%writefile IsomorphicStrings.inp\n",
    "egg\n",
    "add"
   ]
  },
  {
   "cell_type": "code",
   "execution_count": 2,
   "id": "12fb8a09-906d-4147-8b3e-694eddbfd4d8",
   "metadata": {},
   "outputs": [],
   "source": [
    "!python IsomorphicStrings.py < IsomorphicStrings.inp"
   ]
  },
  {
   "cell_type": "code",
   "execution_count": null,
   "id": "c0c6097b-4e81-45bd-945e-b7c89c1319b1",
   "metadata": {},
   "outputs": [],
   "source": []
  }
 ],
 "metadata": {
  "kernelspec": {
   "display_name": "Python [conda env:base] *",
   "language": "python",
   "name": "conda-base-py"
  },
  "language_info": {
   "codemirror_mode": {
    "name": "ipython",
    "version": 3
   },
   "file_extension": ".py",
   "mimetype": "text/x-python",
   "name": "python",
   "nbconvert_exporter": "python",
   "pygments_lexer": "ipython3",
   "version": "3.13.5"
  }
 },
 "nbformat": 4,
 "nbformat_minor": 5
}

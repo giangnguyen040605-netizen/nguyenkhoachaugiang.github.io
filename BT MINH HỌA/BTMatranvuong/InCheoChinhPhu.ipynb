{
 "cells": [
  {
   "cell_type": "code",
   "execution_count": 1,
   "id": "93ac69be-3b71-42ea-9cba-723b38e45f8e",
   "metadata": {},
   "outputs": [
    {
     "name": "stdout",
     "output_type": "stream",
     "text": [
      "Writing InCheoChinhPhu.in0\n"
     ]
    }
   ],
   "source": [
    "%%writefile InCheoChinhPhu.in0\n",
    "5\n",
    "5 5 5 0 0\n",
    "0 5 0 1 1\n",
    "0 5 0 0 0\n",
    "0 0 0 2 3\n",
    "1 1 4 4 7"
   ]
  },
  {
   "cell_type": "code",
   "execution_count": 3,
   "id": "43b31f40-4a00-46dd-ac79-3ae9510fbec4",
   "metadata": {},
   "outputs": [
    {
     "name": "stdout",
     "output_type": "stream",
     "text": [
      "Cac phan tu tren cheo chinh: 5 5 0 2 7\n",
      "Cac phan tu tren cheo phu: 0 1 0 0 1\n"
     ]
    }
   ],
   "source": [
    "!python InCheoChinhPhu.py < InCheoChinhPhu.in0"
   ]
  },
  {
   "cell_type": "code",
   "execution_count": null,
   "id": "a054c7ee-ae4f-4f2b-887a-672942961f4b",
   "metadata": {},
   "outputs": [],
   "source": []
  }
 ],
 "metadata": {
  "kernelspec": {
   "display_name": "Python [conda env:base] *",
   "language": "python",
   "name": "conda-base-py"
  },
  "language_info": {
   "codemirror_mode": {
    "name": "ipython",
    "version": 3
   },
   "file_extension": ".py",
   "mimetype": "text/x-python",
   "name": "python",
   "nbconvert_exporter": "python",
   "pygments_lexer": "ipython3",
   "version": "3.13.5"
  }
 },
 "nbformat": 4,
 "nbformat_minor": 5
}

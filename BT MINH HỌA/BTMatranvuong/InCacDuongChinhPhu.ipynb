{
 "cells": [
  {
   "cell_type": "code",
   "execution_count": 1,
   "id": "d3492690-3d7e-498a-8ed9-5ffd86a657a0",
   "metadata": {},
   "outputs": [
    {
     "name": "stdout",
     "output_type": "stream",
     "text": [
      "Writing InCacDuongChinhPhu.in0\n"
     ]
    }
   ],
   "source": [
    "%%writefile InCacDuongChinhPhu.in0\n",
    "5\n",
    "1 2 3 4 5\n",
    "6 7 8 9 10\n",
    "11 12 13 14 15\n",
    "16 17 18 19 20\n",
    "21 22 23 24 25"
   ]
  },
  {
   "cell_type": "code",
   "execution_count": 7,
   "id": "eb4118ae-0961-4da4-bfd5-19d57f512f6e",
   "metadata": {},
   "outputs": [],
   "source": [
    "!python InCacDuongChinhPhu.py < InCacDuongChinhPhu.in0"
   ]
  },
  {
   "cell_type": "code",
   "execution_count": null,
   "id": "909cd805-4393-46ea-9c28-3447b2a70eea",
   "metadata": {},
   "outputs": [],
   "source": []
  }
 ],
 "metadata": {
  "kernelspec": {
   "display_name": "Python [conda env:base] *",
   "language": "python",
   "name": "conda-base-py"
  },
  "language_info": {
   "codemirror_mode": {
    "name": "ipython",
    "version": 3
   },
   "file_extension": ".py",
   "mimetype": "text/x-python",
   "name": "python",
   "nbconvert_exporter": "python",
   "pygments_lexer": "ipython3",
   "version": "3.13.5"
  }
 },
 "nbformat": 4,
 "nbformat_minor": 5
}

{
 "cells": [
  {
   "cell_type": "code",
   "execution_count": 1,
   "id": "b8e98e92-70da-4591-b861-c17b9b594468",
   "metadata": {},
   "outputs": [
    {
     "name": "stdout",
     "output_type": "stream",
     "text": [
      "Writing CotNhieuNguyenToNhat.in0\n"
     ]
    }
   ],
   "source": [
    "%%writefile CotNhieuNguyenToNhat.in0\n",
    "5 4\n",
    "19 4 6 13\n",
    "8 6 3 2\n",
    "7 5 7 8\n",
    "11 2 7 6\n",
    "3 9 2 15"
   ]
  },
  {
   "cell_type": "code",
   "execution_count": 2,
   "id": "69d59ed8-f111-4591-9fe8-abe3d765729a",
   "metadata": {},
   "outputs": [
    {
     "name": "stdout",
     "output_type": "stream",
     "text": [
      "Cac cot nhieu nguyen to nhat: 0 2\n"
     ]
    }
   ],
   "source": [
    "!python CotNhieuNguyenToNhat.py < CotNhieuNguyenToNhat.in0"
   ]
  },
  {
   "cell_type": "code",
   "execution_count": null,
   "id": "37bd7314-5053-4a99-83b5-c9c187f00d99",
   "metadata": {},
   "outputs": [],
   "source": []
  }
 ],
 "metadata": {
  "kernelspec": {
   "display_name": "Python [conda env:base] *",
   "language": "python",
   "name": "conda-base-py"
  },
  "language_info": {
   "codemirror_mode": {
    "name": "ipython",
    "version": 3
   },
   "file_extension": ".py",
   "mimetype": "text/x-python",
   "name": "python",
   "nbconvert_exporter": "python",
   "pygments_lexer": "ipython3",
   "version": "3.13.5"
  }
 },
 "nbformat": 4,
 "nbformat_minor": 5
}

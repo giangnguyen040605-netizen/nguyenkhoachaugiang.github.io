{
 "cells": [
  {
   "cell_type": "code",
   "execution_count": 1,
   "id": "3f059de9-2fc8-4b0f-b189-ebefefe5625c",
   "metadata": {},
   "outputs": [
    {
     "name": "stdout",
     "output_type": "stream",
     "text": [
      "Writing MaTranToanChan.in0\n"
     ]
    }
   ],
   "source": [
    "%%writefile MaTranToanChan.in0\n",
    "2 3\n",
    "2 4 6\n",
    "8 10 12"
   ]
  },
  {
   "cell_type": "code",
   "execution_count": null,
   "id": "3a38cfca-da0d-4837-b317-4a8babc32362",
   "metadata": {},
   "outputs": [],
   "source": [
    "!python TrungBinhCongMang2C.py < TrungBinhCongMang2C.in0"
   ]
  }
 ],
 "metadata": {
  "kernelspec": {
   "display_name": "Python [conda env:base] *",
   "language": "python",
   "name": "conda-base-py"
  },
  "language_info": {
   "codemirror_mode": {
    "name": "ipython",
    "version": 3
   },
   "file_extension": ".py",
   "mimetype": "text/x-python",
   "name": "python",
   "nbconvert_exporter": "python",
   "pygments_lexer": "ipython3",
   "version": "3.13.5"
  }
 },
 "nbformat": 4,
 "nbformat_minor": 5
}

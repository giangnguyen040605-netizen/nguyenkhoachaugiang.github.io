{
 "cells": [
  {
   "cell_type": "code",
   "execution_count": 1,
   "id": "2a79ee0b-86bb-498d-85b5-b28e2b0750ee",
   "metadata": {},
   "outputs": [
    {
     "name": "stdout",
     "output_type": "stream",
     "text": [
      "Writing DongNhieuNguyenAmNhat.in0\n"
     ]
    }
   ],
   "source": [
    "%%writefile DongNhieuNguyenAmNhat.in0\n",
    "3 3\n",
    "A c e\n",
    "d b g\n",
    "U i E"
   ]
  },
  {
   "cell_type": "code",
   "execution_count": null,
   "id": "e90aa5e5-b583-40ff-b42f-f5bf67ccd166",
   "metadata": {},
   "outputs": [],
   "source": [
    "!python DongNhieuNguyenAmNhat.py < DongNhieuNguyenAmNhat.in0"
   ]
  }
 ],
 "metadata": {
  "kernelspec": {
   "display_name": "Python [conda env:base] *",
   "language": "python",
   "name": "conda-base-py"
  },
  "language_info": {
   "codemirror_mode": {
    "name": "ipython",
    "version": 3
   },
   "file_extension": ".py",
   "mimetype": "text/x-python",
   "name": "python",
   "nbconvert_exporter": "python",
   "pygments_lexer": "ipython3",
   "version": "3.13.5"
  }
 },
 "nbformat": 4,
 "nbformat_minor": 5
}

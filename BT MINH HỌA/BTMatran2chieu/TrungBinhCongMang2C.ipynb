{
 "cells": [
  {
   "cell_type": "code",
   "execution_count": 1,
   "id": "2ac177d6-2620-409a-b129-117ac73a1ff9",
   "metadata": {},
   "outputs": [
    {
     "name": "stdout",
     "output_type": "stream",
     "text": [
      "Writing TrungBinhCongMang2C.in0\n"
     ]
    }
   ],
   "source": [
    "%%writefile TrungBinhCongMang2C.in0\n",
    "3 4\n",
    "1.5 -3.2 4.8 9.1\n",
    "-1.8 3.9 2.7 4.5\n",
    "3.3 9.6 -2.8 -4.9"
   ]
  },
  {
   "cell_type": "code",
   "execution_count": 3,
   "id": "6191c930-292d-41c0-969a-c04ba8c054c9",
   "metadata": {},
   "outputs": [
    {
     "name": "stdout",
     "output_type": "stream",
     "text": [
      "Trung binh cong cac so duong: 4.925.\n"
     ]
    }
   ],
   "source": [
    "!python TrungBinhCongMang2C.py < TrungBinhCongMang2C.in0"
   ]
  },
  {
   "cell_type": "code",
   "execution_count": null,
   "id": "e7bd7138-c517-4235-ab14-4583768d6537",
   "metadata": {},
   "outputs": [],
   "source": []
  }
 ],
 "metadata": {
  "kernelspec": {
   "display_name": "Python [conda env:base] *",
   "language": "python",
   "name": "conda-base-py"
  },
  "language_info": {
   "codemirror_mode": {
    "name": "ipython",
    "version": 3
   },
   "file_extension": ".py",
   "mimetype": "text/x-python",
   "name": "python",
   "nbconvert_exporter": "python",
   "pygments_lexer": "ipython3",
   "version": "3.13.5"
  }
 },
 "nbformat": 4,
 "nbformat_minor": 5
}
